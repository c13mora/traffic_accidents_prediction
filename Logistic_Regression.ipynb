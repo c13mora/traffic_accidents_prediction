{
 "cells": [
  {
   "cell_type": "code",
   "execution_count": 2,
   "metadata": {},
   "outputs": [],
   "source": [
    "import numpy as np\n",
    "import pandas as pd\n",
    "import matplotlib.pyplot as plt\n",
    "import seaborn as sns\n",
    "import math\n",
    "from datetime import datetime"
   ]
  },
  {
   "cell_type": "code",
   "execution_count": 3,
   "metadata": {},
   "outputs": [
    {
     "name": "stderr",
     "output_type": "stream",
     "text": [
      "/var/folders/ky/bbkdw40n5xz_t2tq9j69_g140000gn/T/ipykernel_1342/1223725309.py:1: DtypeWarning: Columns (3) have mixed types. Specify dtype option on import or set low_memory=False.\n",
      "  df = pd.read_csv('/Users/valentinaospinahernandez/downloads/Motor_Vehicle_Collisions_Crashes.csv')\n"
     ]
    }
   ],
   "source": [
    "df = pd.read_csv('/Users/valentinaospinahernandez/downloads/Motor_Vehicle_Collisions_Crashes.csv')"
   ]
  },
  {
   "cell_type": "code",
   "execution_count": 4,
   "metadata": {},
   "outputs": [
    {
     "data": {
      "text/html": [
       "<div>\n",
       "<style scoped>\n",
       "    .dataframe tbody tr th:only-of-type {\n",
       "        vertical-align: middle;\n",
       "    }\n",
       "\n",
       "    .dataframe tbody tr th {\n",
       "        vertical-align: top;\n",
       "    }\n",
       "\n",
       "    .dataframe thead th {\n",
       "        text-align: right;\n",
       "    }\n",
       "</style>\n",
       "<table border=\"1\" class=\"dataframe\">\n",
       "  <thead>\n",
       "    <tr style=\"text-align: right;\">\n",
       "      <th></th>\n",
       "      <th>CRASH DATE</th>\n",
       "      <th>CRASH TIME</th>\n",
       "      <th>BOROUGH</th>\n",
       "      <th>ZIP CODE</th>\n",
       "      <th>LATITUDE</th>\n",
       "      <th>LONGITUDE</th>\n",
       "      <th>LOCATION</th>\n",
       "      <th>ON STREET NAME</th>\n",
       "      <th>CROSS STREET NAME</th>\n",
       "      <th>OFF STREET NAME</th>\n",
       "      <th>...</th>\n",
       "      <th>CONTRIBUTING FACTOR VEHICLE 2</th>\n",
       "      <th>CONTRIBUTING FACTOR VEHICLE 3</th>\n",
       "      <th>CONTRIBUTING FACTOR VEHICLE 4</th>\n",
       "      <th>CONTRIBUTING FACTOR VEHICLE 5</th>\n",
       "      <th>COLLISION_ID</th>\n",
       "      <th>VEHICLE TYPE CODE 1</th>\n",
       "      <th>VEHICLE TYPE CODE 2</th>\n",
       "      <th>VEHICLE TYPE CODE 3</th>\n",
       "      <th>VEHICLE TYPE CODE 4</th>\n",
       "      <th>VEHICLE TYPE CODE 5</th>\n",
       "    </tr>\n",
       "  </thead>\n",
       "  <tbody>\n",
       "    <tr>\n",
       "      <th>0</th>\n",
       "      <td>09/11/2021</td>\n",
       "      <td>2:39</td>\n",
       "      <td>NaN</td>\n",
       "      <td>NaN</td>\n",
       "      <td>NaN</td>\n",
       "      <td>NaN</td>\n",
       "      <td>NaN</td>\n",
       "      <td>WHITESTONE EXPRESSWAY</td>\n",
       "      <td>20 AVENUE</td>\n",
       "      <td>NaN</td>\n",
       "      <td>...</td>\n",
       "      <td>Unspecified</td>\n",
       "      <td>NaN</td>\n",
       "      <td>NaN</td>\n",
       "      <td>NaN</td>\n",
       "      <td>4455765</td>\n",
       "      <td>Sedan</td>\n",
       "      <td>Sedan</td>\n",
       "      <td>NaN</td>\n",
       "      <td>NaN</td>\n",
       "      <td>NaN</td>\n",
       "    </tr>\n",
       "    <tr>\n",
       "      <th>1</th>\n",
       "      <td>03/26/2022</td>\n",
       "      <td>11:45</td>\n",
       "      <td>NaN</td>\n",
       "      <td>NaN</td>\n",
       "      <td>NaN</td>\n",
       "      <td>NaN</td>\n",
       "      <td>NaN</td>\n",
       "      <td>QUEENSBORO BRIDGE UPPER</td>\n",
       "      <td>NaN</td>\n",
       "      <td>NaN</td>\n",
       "      <td>...</td>\n",
       "      <td>NaN</td>\n",
       "      <td>NaN</td>\n",
       "      <td>NaN</td>\n",
       "      <td>NaN</td>\n",
       "      <td>4513547</td>\n",
       "      <td>Sedan</td>\n",
       "      <td>NaN</td>\n",
       "      <td>NaN</td>\n",
       "      <td>NaN</td>\n",
       "      <td>NaN</td>\n",
       "    </tr>\n",
       "    <tr>\n",
       "      <th>2</th>\n",
       "      <td>06/29/2022</td>\n",
       "      <td>6:55</td>\n",
       "      <td>NaN</td>\n",
       "      <td>NaN</td>\n",
       "      <td>NaN</td>\n",
       "      <td>NaN</td>\n",
       "      <td>NaN</td>\n",
       "      <td>THROGS NECK BRIDGE</td>\n",
       "      <td>NaN</td>\n",
       "      <td>NaN</td>\n",
       "      <td>...</td>\n",
       "      <td>Unspecified</td>\n",
       "      <td>NaN</td>\n",
       "      <td>NaN</td>\n",
       "      <td>NaN</td>\n",
       "      <td>4541903</td>\n",
       "      <td>Sedan</td>\n",
       "      <td>Pick-up Truck</td>\n",
       "      <td>NaN</td>\n",
       "      <td>NaN</td>\n",
       "      <td>NaN</td>\n",
       "    </tr>\n",
       "    <tr>\n",
       "      <th>3</th>\n",
       "      <td>09/11/2021</td>\n",
       "      <td>9:35</td>\n",
       "      <td>BROOKLYN</td>\n",
       "      <td>11208.0</td>\n",
       "      <td>40.667202</td>\n",
       "      <td>-73.866500</td>\n",
       "      <td>(40.667202, -73.8665)</td>\n",
       "      <td>NaN</td>\n",
       "      <td>NaN</td>\n",
       "      <td>1211      LORING AVENUE</td>\n",
       "      <td>...</td>\n",
       "      <td>NaN</td>\n",
       "      <td>NaN</td>\n",
       "      <td>NaN</td>\n",
       "      <td>NaN</td>\n",
       "      <td>4456314</td>\n",
       "      <td>Sedan</td>\n",
       "      <td>NaN</td>\n",
       "      <td>NaN</td>\n",
       "      <td>NaN</td>\n",
       "      <td>NaN</td>\n",
       "    </tr>\n",
       "    <tr>\n",
       "      <th>4</th>\n",
       "      <td>12/14/2021</td>\n",
       "      <td>8:13</td>\n",
       "      <td>BROOKLYN</td>\n",
       "      <td>11233.0</td>\n",
       "      <td>40.683304</td>\n",
       "      <td>-73.917274</td>\n",
       "      <td>(40.683304, -73.917274)</td>\n",
       "      <td>SARATOGA AVENUE</td>\n",
       "      <td>DECATUR STREET</td>\n",
       "      <td>NaN</td>\n",
       "      <td>...</td>\n",
       "      <td>NaN</td>\n",
       "      <td>NaN</td>\n",
       "      <td>NaN</td>\n",
       "      <td>NaN</td>\n",
       "      <td>4486609</td>\n",
       "      <td>NaN</td>\n",
       "      <td>NaN</td>\n",
       "      <td>NaN</td>\n",
       "      <td>NaN</td>\n",
       "      <td>NaN</td>\n",
       "    </tr>\n",
       "    <tr>\n",
       "      <th>5</th>\n",
       "      <td>04/14/2021</td>\n",
       "      <td>12:47</td>\n",
       "      <td>NaN</td>\n",
       "      <td>NaN</td>\n",
       "      <td>NaN</td>\n",
       "      <td>NaN</td>\n",
       "      <td>NaN</td>\n",
       "      <td>MAJOR DEEGAN EXPRESSWAY RAMP</td>\n",
       "      <td>NaN</td>\n",
       "      <td>NaN</td>\n",
       "      <td>...</td>\n",
       "      <td>Unspecified</td>\n",
       "      <td>NaN</td>\n",
       "      <td>NaN</td>\n",
       "      <td>NaN</td>\n",
       "      <td>4407458</td>\n",
       "      <td>Dump</td>\n",
       "      <td>Sedan</td>\n",
       "      <td>NaN</td>\n",
       "      <td>NaN</td>\n",
       "      <td>NaN</td>\n",
       "    </tr>\n",
       "  </tbody>\n",
       "</table>\n",
       "<p>6 rows × 29 columns</p>\n",
       "</div>"
      ],
      "text/plain": [
       "   CRASH DATE CRASH TIME   BOROUGH ZIP CODE   LATITUDE  LONGITUDE  \\\n",
       "0  09/11/2021       2:39       NaN      NaN        NaN        NaN   \n",
       "1  03/26/2022      11:45       NaN      NaN        NaN        NaN   \n",
       "2  06/29/2022       6:55       NaN      NaN        NaN        NaN   \n",
       "3  09/11/2021       9:35  BROOKLYN  11208.0  40.667202 -73.866500   \n",
       "4  12/14/2021       8:13  BROOKLYN  11233.0  40.683304 -73.917274   \n",
       "5  04/14/2021      12:47       NaN      NaN        NaN        NaN   \n",
       "\n",
       "                  LOCATION                ON STREET NAME CROSS STREET NAME  \\\n",
       "0                      NaN         WHITESTONE EXPRESSWAY         20 AVENUE   \n",
       "1                      NaN       QUEENSBORO BRIDGE UPPER               NaN   \n",
       "2                      NaN            THROGS NECK BRIDGE               NaN   \n",
       "3    (40.667202, -73.8665)                           NaN               NaN   \n",
       "4  (40.683304, -73.917274)               SARATOGA AVENUE    DECATUR STREET   \n",
       "5                      NaN  MAJOR DEEGAN EXPRESSWAY RAMP               NaN   \n",
       "\n",
       "           OFF STREET NAME  ...  CONTRIBUTING FACTOR VEHICLE 2  \\\n",
       "0                      NaN  ...                    Unspecified   \n",
       "1                      NaN  ...                            NaN   \n",
       "2                      NaN  ...                    Unspecified   \n",
       "3  1211      LORING AVENUE  ...                            NaN   \n",
       "4                      NaN  ...                            NaN   \n",
       "5                      NaN  ...                    Unspecified   \n",
       "\n",
       "   CONTRIBUTING FACTOR VEHICLE 3  CONTRIBUTING FACTOR VEHICLE 4  \\\n",
       "0                            NaN                            NaN   \n",
       "1                            NaN                            NaN   \n",
       "2                            NaN                            NaN   \n",
       "3                            NaN                            NaN   \n",
       "4                            NaN                            NaN   \n",
       "5                            NaN                            NaN   \n",
       "\n",
       "   CONTRIBUTING FACTOR VEHICLE 5  COLLISION_ID  VEHICLE TYPE CODE 1  \\\n",
       "0                            NaN       4455765                Sedan   \n",
       "1                            NaN       4513547                Sedan   \n",
       "2                            NaN       4541903                Sedan   \n",
       "3                            NaN       4456314                Sedan   \n",
       "4                            NaN       4486609                  NaN   \n",
       "5                            NaN       4407458                 Dump   \n",
       "\n",
       "   VEHICLE TYPE CODE 2  VEHICLE TYPE CODE 3 VEHICLE TYPE CODE 4  \\\n",
       "0                Sedan                  NaN                 NaN   \n",
       "1                  NaN                  NaN                 NaN   \n",
       "2        Pick-up Truck                  NaN                 NaN   \n",
       "3                  NaN                  NaN                 NaN   \n",
       "4                  NaN                  NaN                 NaN   \n",
       "5                Sedan                  NaN                 NaN   \n",
       "\n",
       "  VEHICLE TYPE CODE 5  \n",
       "0                 NaN  \n",
       "1                 NaN  \n",
       "2                 NaN  \n",
       "3                 NaN  \n",
       "4                 NaN  \n",
       "5                 NaN  \n",
       "\n",
       "[6 rows x 29 columns]"
      ]
     },
     "execution_count": 4,
     "metadata": {},
     "output_type": "execute_result"
    }
   ],
   "source": [
    "df.head(6)"
   ]
  },
  {
   "cell_type": "code",
   "execution_count": 5,
   "metadata": {},
   "outputs": [
    {
     "data": {
      "text/plain": [
       "(1979623, 29)"
      ]
     },
     "execution_count": 5,
     "metadata": {},
     "output_type": "execute_result"
    }
   ],
   "source": [
    "df.shape"
   ]
  },
  {
   "cell_type": "code",
   "execution_count": 6,
   "metadata": {},
   "outputs": [
    {
     "name": "stdout",
     "output_type": "stream",
     "text": [
      "<class 'pandas.core.frame.DataFrame'>\n",
      "RangeIndex: 1979623 entries, 0 to 1979622\n",
      "Data columns (total 29 columns):\n",
      " #   Column                         Dtype  \n",
      "---  ------                         -----  \n",
      " 0   CRASH DATE                     object \n",
      " 1   CRASH TIME                     object \n",
      " 2   BOROUGH                        object \n",
      " 3   ZIP CODE                       object \n",
      " 4   LATITUDE                       float64\n",
      " 5   LONGITUDE                      float64\n",
      " 6   LOCATION                       object \n",
      " 7   ON STREET NAME                 object \n",
      " 8   CROSS STREET NAME              object \n",
      " 9   OFF STREET NAME                object \n",
      " 10  NUMBER OF PERSONS INJURED      float64\n",
      " 11  NUMBER OF PERSONS KILLED       float64\n",
      " 12  NUMBER OF PEDESTRIANS INJURED  int64  \n",
      " 13  NUMBER OF PEDESTRIANS KILLED   int64  \n",
      " 14  NUMBER OF CYCLIST INJURED      int64  \n",
      " 15  NUMBER OF CYCLIST KILLED       int64  \n",
      " 16  NUMBER OF MOTORIST INJURED     int64  \n",
      " 17  NUMBER OF MOTORIST KILLED      int64  \n",
      " 18  CONTRIBUTING FACTOR VEHICLE 1  object \n",
      " 19  CONTRIBUTING FACTOR VEHICLE 2  object \n",
      " 20  CONTRIBUTING FACTOR VEHICLE 3  object \n",
      " 21  CONTRIBUTING FACTOR VEHICLE 4  object \n",
      " 22  CONTRIBUTING FACTOR VEHICLE 5  object \n",
      " 23  COLLISION_ID                   int64  \n",
      " 24  VEHICLE TYPE CODE 1            object \n",
      " 25  VEHICLE TYPE CODE 2            object \n",
      " 26  VEHICLE TYPE CODE 3            object \n",
      " 27  VEHICLE TYPE CODE 4            object \n",
      " 28  VEHICLE TYPE CODE 5            object \n",
      "dtypes: float64(4), int64(7), object(18)\n",
      "memory usage: 438.0+ MB\n"
     ]
    }
   ],
   "source": [
    "df.info()"
   ]
  },
  {
   "cell_type": "code",
   "execution_count": 7,
   "metadata": {},
   "outputs": [
    {
     "data": {
      "text/plain": [
       "CRASH DATE                       0.000000\n",
       "CRASH TIME                       0.000000\n",
       "BOROUGH                          0.310924\n",
       "ZIP CODE                         0.311045\n",
       "LATITUDE                         0.114469\n",
       "LONGITUDE                        0.114469\n",
       "LOCATION                         0.114469\n",
       "ON STREET NAME                   0.209049\n",
       "CROSS STREET NAME                0.371461\n",
       "OFF STREET NAME                  0.837612\n",
       "NUMBER OF PERSONS INJURED        0.000009\n",
       "NUMBER OF PERSONS KILLED         0.000016\n",
       "NUMBER OF PEDESTRIANS INJURED    0.000000\n",
       "NUMBER OF PEDESTRIANS KILLED     0.000000\n",
       "NUMBER OF CYCLIST INJURED        0.000000\n",
       "NUMBER OF CYCLIST KILLED         0.000000\n",
       "NUMBER OF MOTORIST INJURED       0.000000\n",
       "NUMBER OF MOTORIST KILLED        0.000000\n",
       "CONTRIBUTING FACTOR VEHICLE 1    0.003099\n",
       "CONTRIBUTING FACTOR VEHICLE 2    0.151302\n",
       "CONTRIBUTING FACTOR VEHICLE 3    0.929541\n",
       "CONTRIBUTING FACTOR VEHICLE 4    0.984256\n",
       "CONTRIBUTING FACTOR VEHICLE 5    0.995762\n",
       "COLLISION_ID                     0.000000\n",
       "VEHICLE TYPE CODE 1              0.006131\n",
       "VEHICLE TYPE CODE 2              0.184195\n",
       "VEHICLE TYPE CODE 3              0.931933\n",
       "VEHICLE TYPE CODE 4              0.984774\n",
       "VEHICLE TYPE CODE 5              0.995888\n",
       "dtype: float64"
      ]
     },
     "execution_count": 7,
     "metadata": {},
     "output_type": "execute_result"
    }
   ],
   "source": [
    "df.isnull().sum()/df.shape[0]"
   ]
  },
  {
   "attachments": {},
   "cell_type": "markdown",
   "metadata": {},
   "source": [
    "## Limpieza de Datos y Data Wrangling"
   ]
  },
  {
   "attachments": {},
   "cell_type": "markdown",
   "metadata": {},
   "source": [
    "### Crear columnas 'injured' (número de heridos) y 'deaths_number' (número de fallecidos)"
   ]
  },
  {
   "cell_type": "code",
   "execution_count": 8,
   "metadata": {},
   "outputs": [
    {
     "data": {
      "text/plain": [
       "NUMBER OF PERSONS INJURED        588302.0\n",
       "NUMBER OF PEDESTRIANS INJURED    108191.0\n",
       "NUMBER OF CYCLIST INJURED         50462.0\n",
       "NUMBER OF MOTORIST INJURED       424432.0\n",
       "dtype: float64"
      ]
     },
     "execution_count": 8,
     "metadata": {},
     "output_type": "execute_result"
    }
   ],
   "source": [
    "col_heridos = ['NUMBER OF PERSONS INJURED', 'NUMBER OF PEDESTRIANS INJURED', 'NUMBER OF CYCLIST INJURED', 'NUMBER OF MOTORIST INJURED']\n",
    "\n",
    "df.loc[:,col_heridos].sum()"
   ]
  },
  {
   "cell_type": "code",
   "execution_count": 9,
   "metadata": {},
   "outputs": [
    {
     "data": {
      "text/plain": [
       "NUMBER OF PERSONS KILLED        2812.0\n",
       "NUMBER OF PEDESTRIANS KILLED    1427.0\n",
       "NUMBER OF CYCLIST KILLED         212.0\n",
       "NUMBER OF MOTORIST KILLED       1137.0\n",
       "dtype: float64"
      ]
     },
     "execution_count": 9,
     "metadata": {},
     "output_type": "execute_result"
    }
   ],
   "source": [
    "col_deaths = ['NUMBER OF PERSONS KILLED', 'NUMBER OF PEDESTRIANS KILLED', 'NUMBER OF CYCLIST KILLED', 'NUMBER OF MOTORIST KILLED']\n",
    "\n",
    "df.loc[:,col_deaths].sum()"
   ]
  },
  {
   "cell_type": "code",
   "execution_count": 10,
   "metadata": {},
   "outputs": [
    {
     "name": "stdout",
     "output_type": "stream",
     "text": [
      "Index(['CRASH DATE', 'CRASH TIME', 'BOROUGH', 'ZIP CODE', 'LATITUDE',\n",
      "       'LONGITUDE', 'LOCATION', 'ON STREET NAME', 'CROSS STREET NAME',\n",
      "       'OFF STREET NAME', 'NUMBER OF PERSONS INJURED',\n",
      "       'NUMBER OF PERSONS KILLED', 'NUMBER OF PEDESTRIANS INJURED',\n",
      "       'NUMBER OF PEDESTRIANS KILLED', 'NUMBER OF CYCLIST INJURED',\n",
      "       'NUMBER OF CYCLIST KILLED', 'NUMBER OF MOTORIST INJURED',\n",
      "       'NUMBER OF MOTORIST KILLED', 'CONTRIBUTING FACTOR VEHICLE 1',\n",
      "       'CONTRIBUTING FACTOR VEHICLE 2', 'CONTRIBUTING FACTOR VEHICLE 3',\n",
      "       'CONTRIBUTING FACTOR VEHICLE 4', 'CONTRIBUTING FACTOR VEHICLE 5',\n",
      "       'COLLISION_ID', 'VEHICLE TYPE CODE 1', 'VEHICLE TYPE CODE 2',\n",
      "       'VEHICLE TYPE CODE 3', 'VEHICLE TYPE CODE 4', 'VEHICLE TYPE CODE 5',\n",
      "       'injured'],\n",
      "      dtype='object')\n"
     ]
    }
   ],
   "source": [
    "# Función para determinar número de heridos\n",
    "def heridos(row):\n",
    "    if row[col_heridos].sum() > 0:\n",
    "        return row[col_heridos].sum()\n",
    "    else:\n",
    "        return 0\n",
    "\n",
    "# Creamos columna 'injured' aplicando la función a todas las filas del dataset\n",
    "df['injured'] = df.apply(heridos, axis=1)\n",
    "\n",
    "print(df.columns)"
   ]
  },
  {
   "cell_type": "code",
   "execution_count": 11,
   "metadata": {},
   "outputs": [],
   "source": [
    "# Función para determinar número de fallecidos\n",
    "def deaths(row):\n",
    "    if row[col_deaths].sum() > 0:\n",
    "        return row[col_deaths].sum()\n",
    "    else:\n",
    "        return 0\n",
    "\n",
    "# Creamos columna 'deaths' aplicando la función a todas las filas del dataset\n",
    "df['deaths_number'] = df.apply(deaths, axis=1)"
   ]
  },
  {
   "cell_type": "code",
   "execution_count": 12,
   "metadata": {},
   "outputs": [],
   "source": [
    "df.injured=df.injured.astype(int)\n",
    "df.deaths_number=df.deaths_number.astype(int)"
   ]
  },
  {
   "cell_type": "code",
   "execution_count": 13,
   "metadata": {},
   "outputs": [],
   "source": [
    "df = df.drop(columns=col_deaths+col_heridos)"
   ]
  },
  {
   "cell_type": "code",
   "execution_count": 14,
   "metadata": {},
   "outputs": [
    {
     "data": {
      "text/html": [
       "<div>\n",
       "<style scoped>\n",
       "    .dataframe tbody tr th:only-of-type {\n",
       "        vertical-align: middle;\n",
       "    }\n",
       "\n",
       "    .dataframe tbody tr th {\n",
       "        vertical-align: top;\n",
       "    }\n",
       "\n",
       "    .dataframe thead th {\n",
       "        text-align: right;\n",
       "    }\n",
       "</style>\n",
       "<table border=\"1\" class=\"dataframe\">\n",
       "  <thead>\n",
       "    <tr style=\"text-align: right;\">\n",
       "      <th></th>\n",
       "      <th>CRASH DATE</th>\n",
       "      <th>CRASH TIME</th>\n",
       "      <th>BOROUGH</th>\n",
       "      <th>ZIP CODE</th>\n",
       "      <th>LATITUDE</th>\n",
       "      <th>LONGITUDE</th>\n",
       "      <th>LOCATION</th>\n",
       "      <th>ON STREET NAME</th>\n",
       "      <th>CROSS STREET NAME</th>\n",
       "      <th>OFF STREET NAME</th>\n",
       "      <th>...</th>\n",
       "      <th>CONTRIBUTING FACTOR VEHICLE 4</th>\n",
       "      <th>CONTRIBUTING FACTOR VEHICLE 5</th>\n",
       "      <th>COLLISION_ID</th>\n",
       "      <th>VEHICLE TYPE CODE 1</th>\n",
       "      <th>VEHICLE TYPE CODE 2</th>\n",
       "      <th>VEHICLE TYPE CODE 3</th>\n",
       "      <th>VEHICLE TYPE CODE 4</th>\n",
       "      <th>VEHICLE TYPE CODE 5</th>\n",
       "      <th>injured</th>\n",
       "      <th>deaths_number</th>\n",
       "    </tr>\n",
       "  </thead>\n",
       "  <tbody>\n",
       "    <tr>\n",
       "      <th>814654</th>\n",
       "      <td>09/14/2017</td>\n",
       "      <td>9:00</td>\n",
       "      <td>NaN</td>\n",
       "      <td>NaN</td>\n",
       "      <td>40.758316</td>\n",
       "      <td>-73.941460</td>\n",
       "      <td>(40.758316, -73.94146)</td>\n",
       "      <td>38 AVENUE</td>\n",
       "      <td>NaN</td>\n",
       "      <td>NaN</td>\n",
       "      <td>...</td>\n",
       "      <td>NaN</td>\n",
       "      <td>NaN</td>\n",
       "      <td>3750563</td>\n",
       "      <td>Box Truck</td>\n",
       "      <td>Sedan</td>\n",
       "      <td>NaN</td>\n",
       "      <td>NaN</td>\n",
       "      <td>NaN</td>\n",
       "      <td>0</td>\n",
       "      <td>0</td>\n",
       "    </tr>\n",
       "    <tr>\n",
       "      <th>1671144</th>\n",
       "      <td>09/23/2013</td>\n",
       "      <td>15:10</td>\n",
       "      <td>MANHATTAN</td>\n",
       "      <td>10034</td>\n",
       "      <td>40.863020</td>\n",
       "      <td>-73.917557</td>\n",
       "      <td>(40.8630205, -73.9175569)</td>\n",
       "      <td>9 AVENUE</td>\n",
       "      <td>WEST 206 STREET</td>\n",
       "      <td>NaN</td>\n",
       "      <td>...</td>\n",
       "      <td>NaN</td>\n",
       "      <td>NaN</td>\n",
       "      <td>71882</td>\n",
       "      <td>SPORT UTILITY / STATION WAGON</td>\n",
       "      <td>UNKNOWN</td>\n",
       "      <td>NaN</td>\n",
       "      <td>NaN</td>\n",
       "      <td>NaN</td>\n",
       "      <td>0</td>\n",
       "      <td>0</td>\n",
       "    </tr>\n",
       "    <tr>\n",
       "      <th>691247</th>\n",
       "      <td>03/20/2018</td>\n",
       "      <td>9:46</td>\n",
       "      <td>NaN</td>\n",
       "      <td>NaN</td>\n",
       "      <td>40.665916</td>\n",
       "      <td>-73.925470</td>\n",
       "      <td>(40.665916, -73.92547)</td>\n",
       "      <td>BUFFALO AVENUE</td>\n",
       "      <td>NaN</td>\n",
       "      <td>NaN</td>\n",
       "      <td>...</td>\n",
       "      <td>NaN</td>\n",
       "      <td>NaN</td>\n",
       "      <td>3867081</td>\n",
       "      <td>Sedan</td>\n",
       "      <td>Sedan</td>\n",
       "      <td>NaN</td>\n",
       "      <td>NaN</td>\n",
       "      <td>NaN</td>\n",
       "      <td>0</td>\n",
       "      <td>0</td>\n",
       "    </tr>\n",
       "    <tr>\n",
       "      <th>869023</th>\n",
       "      <td>06/28/2017</td>\n",
       "      <td>20:20</td>\n",
       "      <td>BROOKLYN</td>\n",
       "      <td>11234.0</td>\n",
       "      <td>40.611220</td>\n",
       "      <td>-73.920300</td>\n",
       "      <td>(40.61122, -73.9203)</td>\n",
       "      <td>NaN</td>\n",
       "      <td>NaN</td>\n",
       "      <td>5400      AVENUE U</td>\n",
       "      <td>...</td>\n",
       "      <td>NaN</td>\n",
       "      <td>NaN</td>\n",
       "      <td>3702249</td>\n",
       "      <td>Station Wagon/Sport Utility Vehicle</td>\n",
       "      <td>Sedan</td>\n",
       "      <td>NaN</td>\n",
       "      <td>NaN</td>\n",
       "      <td>NaN</td>\n",
       "      <td>0</td>\n",
       "      <td>0</td>\n",
       "    </tr>\n",
       "    <tr>\n",
       "      <th>1358043</th>\n",
       "      <td>03/24/2015</td>\n",
       "      <td>8:15</td>\n",
       "      <td>NaN</td>\n",
       "      <td>NaN</td>\n",
       "      <td>40.855123</td>\n",
       "      <td>-73.872209</td>\n",
       "      <td>(40.8551235, -73.8722091)</td>\n",
       "      <td>NaN</td>\n",
       "      <td>NaN</td>\n",
       "      <td>NaN</td>\n",
       "      <td>...</td>\n",
       "      <td>NaN</td>\n",
       "      <td>NaN</td>\n",
       "      <td>3191359</td>\n",
       "      <td>PASSENGER VEHICLE</td>\n",
       "      <td>PASSENGER VEHICLE</td>\n",
       "      <td>NaN</td>\n",
       "      <td>NaN</td>\n",
       "      <td>NaN</td>\n",
       "      <td>0</td>\n",
       "      <td>0</td>\n",
       "    </tr>\n",
       "  </tbody>\n",
       "</table>\n",
       "<p>5 rows × 23 columns</p>\n",
       "</div>"
      ],
      "text/plain": [
       "         CRASH DATE CRASH TIME    BOROUGH ZIP CODE   LATITUDE  LONGITUDE  \\\n",
       "814654   09/14/2017       9:00        NaN      NaN  40.758316 -73.941460   \n",
       "1671144  09/23/2013      15:10  MANHATTAN    10034  40.863020 -73.917557   \n",
       "691247   03/20/2018       9:46        NaN      NaN  40.665916 -73.925470   \n",
       "869023   06/28/2017      20:20   BROOKLYN  11234.0  40.611220 -73.920300   \n",
       "1358043  03/24/2015       8:15        NaN      NaN  40.855123 -73.872209   \n",
       "\n",
       "                          LOCATION                    ON STREET NAME  \\\n",
       "814654      (40.758316, -73.94146)  38 AVENUE                          \n",
       "1671144  (40.8630205, -73.9175569)  9 AVENUE                           \n",
       "691247      (40.665916, -73.92547)  BUFFALO AVENUE                     \n",
       "869023        (40.61122, -73.9203)                               NaN   \n",
       "1358043  (40.8551235, -73.8722091)                               NaN   \n",
       "\n",
       "                        CROSS STREET NAME  \\\n",
       "814654                                NaN   \n",
       "1671144  WEST 206 STREET                    \n",
       "691247                                NaN   \n",
       "869023                                NaN   \n",
       "1358043                               NaN   \n",
       "\n",
       "                                  OFF STREET NAME  ...  \\\n",
       "814654                                        NaN  ...   \n",
       "1671144                                       NaN  ...   \n",
       "691247                                        NaN  ...   \n",
       "869023   5400      AVENUE U                        ...   \n",
       "1358043                                       NaN  ...   \n",
       "\n",
       "        CONTRIBUTING FACTOR VEHICLE 4 CONTRIBUTING FACTOR VEHICLE 5  \\\n",
       "814654                            NaN                           NaN   \n",
       "1671144                           NaN                           NaN   \n",
       "691247                            NaN                           NaN   \n",
       "869023                            NaN                           NaN   \n",
       "1358043                           NaN                           NaN   \n",
       "\n",
       "        COLLISION_ID                  VEHICLE TYPE CODE 1 VEHICLE TYPE CODE 2  \\\n",
       "814654       3750563                            Box Truck               Sedan   \n",
       "1671144        71882        SPORT UTILITY / STATION WAGON             UNKNOWN   \n",
       "691247       3867081                                Sedan               Sedan   \n",
       "869023       3702249  Station Wagon/Sport Utility Vehicle               Sedan   \n",
       "1358043      3191359                    PASSENGER VEHICLE   PASSENGER VEHICLE   \n",
       "\n",
       "         VEHICLE TYPE CODE 3 VEHICLE TYPE CODE 4 VEHICLE TYPE CODE 5 injured  \\\n",
       "814654                   NaN                 NaN                 NaN       0   \n",
       "1671144                  NaN                 NaN                 NaN       0   \n",
       "691247                   NaN                 NaN                 NaN       0   \n",
       "869023                   NaN                 NaN                 NaN       0   \n",
       "1358043                  NaN                 NaN                 NaN       0   \n",
       "\n",
       "        deaths_number  \n",
       "814654              0  \n",
       "1671144             0  \n",
       "691247              0  \n",
       "869023              0  \n",
       "1358043             0  \n",
       "\n",
       "[5 rows x 23 columns]"
      ]
     },
     "execution_count": 14,
     "metadata": {},
     "output_type": "execute_result"
    }
   ],
   "source": [
    "df.sample(5)"
   ]
  },
  {
   "attachments": {},
   "cell_type": "markdown",
   "metadata": {},
   "source": [
    "### Creación de variable target 'deaths'"
   ]
  },
  {
   "cell_type": "code",
   "execution_count": 15,
   "metadata": {},
   "outputs": [],
   "source": [
    "def deaths_yes_no(row):\n",
    "    if row['deaths_number'] > 0:\n",
    "        return 1\n",
    "    else:\n",
    "        return 0"
   ]
  },
  {
   "cell_type": "code",
   "execution_count": 16,
   "metadata": {},
   "outputs": [],
   "source": [
    "df['deaths'] = df.apply(deaths_yes_no, axis=1)"
   ]
  },
  {
   "cell_type": "code",
   "execution_count": 17,
   "metadata": {},
   "outputs": [
    {
     "data": {
      "text/html": [
       "<div>\n",
       "<style scoped>\n",
       "    .dataframe tbody tr th:only-of-type {\n",
       "        vertical-align: middle;\n",
       "    }\n",
       "\n",
       "    .dataframe tbody tr th {\n",
       "        vertical-align: top;\n",
       "    }\n",
       "\n",
       "    .dataframe thead th {\n",
       "        text-align: right;\n",
       "    }\n",
       "</style>\n",
       "<table border=\"1\" class=\"dataframe\">\n",
       "  <thead>\n",
       "    <tr style=\"text-align: right;\">\n",
       "      <th></th>\n",
       "      <th>CRASH DATE</th>\n",
       "      <th>CRASH TIME</th>\n",
       "      <th>BOROUGH</th>\n",
       "      <th>ZIP CODE</th>\n",
       "      <th>LATITUDE</th>\n",
       "      <th>LONGITUDE</th>\n",
       "      <th>LOCATION</th>\n",
       "      <th>ON STREET NAME</th>\n",
       "      <th>CROSS STREET NAME</th>\n",
       "      <th>OFF STREET NAME</th>\n",
       "      <th>...</th>\n",
       "      <th>CONTRIBUTING FACTOR VEHICLE 5</th>\n",
       "      <th>COLLISION_ID</th>\n",
       "      <th>VEHICLE TYPE CODE 1</th>\n",
       "      <th>VEHICLE TYPE CODE 2</th>\n",
       "      <th>VEHICLE TYPE CODE 3</th>\n",
       "      <th>VEHICLE TYPE CODE 4</th>\n",
       "      <th>VEHICLE TYPE CODE 5</th>\n",
       "      <th>injured</th>\n",
       "      <th>deaths_number</th>\n",
       "      <th>deaths</th>\n",
       "    </tr>\n",
       "  </thead>\n",
       "  <tbody>\n",
       "    <tr>\n",
       "      <th>0</th>\n",
       "      <td>09/11/2021</td>\n",
       "      <td>2:39</td>\n",
       "      <td>NaN</td>\n",
       "      <td>NaN</td>\n",
       "      <td>NaN</td>\n",
       "      <td>NaN</td>\n",
       "      <td>NaN</td>\n",
       "      <td>WHITESTONE EXPRESSWAY</td>\n",
       "      <td>20 AVENUE</td>\n",
       "      <td>NaN</td>\n",
       "      <td>...</td>\n",
       "      <td>NaN</td>\n",
       "      <td>4455765</td>\n",
       "      <td>Sedan</td>\n",
       "      <td>Sedan</td>\n",
       "      <td>NaN</td>\n",
       "      <td>NaN</td>\n",
       "      <td>NaN</td>\n",
       "      <td>4</td>\n",
       "      <td>0</td>\n",
       "      <td>0</td>\n",
       "    </tr>\n",
       "    <tr>\n",
       "      <th>1</th>\n",
       "      <td>03/26/2022</td>\n",
       "      <td>11:45</td>\n",
       "      <td>NaN</td>\n",
       "      <td>NaN</td>\n",
       "      <td>NaN</td>\n",
       "      <td>NaN</td>\n",
       "      <td>NaN</td>\n",
       "      <td>QUEENSBORO BRIDGE UPPER</td>\n",
       "      <td>NaN</td>\n",
       "      <td>NaN</td>\n",
       "      <td>...</td>\n",
       "      <td>NaN</td>\n",
       "      <td>4513547</td>\n",
       "      <td>Sedan</td>\n",
       "      <td>NaN</td>\n",
       "      <td>NaN</td>\n",
       "      <td>NaN</td>\n",
       "      <td>NaN</td>\n",
       "      <td>2</td>\n",
       "      <td>0</td>\n",
       "      <td>0</td>\n",
       "    </tr>\n",
       "    <tr>\n",
       "      <th>2</th>\n",
       "      <td>06/29/2022</td>\n",
       "      <td>6:55</td>\n",
       "      <td>NaN</td>\n",
       "      <td>NaN</td>\n",
       "      <td>NaN</td>\n",
       "      <td>NaN</td>\n",
       "      <td>NaN</td>\n",
       "      <td>THROGS NECK BRIDGE</td>\n",
       "      <td>NaN</td>\n",
       "      <td>NaN</td>\n",
       "      <td>...</td>\n",
       "      <td>NaN</td>\n",
       "      <td>4541903</td>\n",
       "      <td>Sedan</td>\n",
       "      <td>Pick-up Truck</td>\n",
       "      <td>NaN</td>\n",
       "      <td>NaN</td>\n",
       "      <td>NaN</td>\n",
       "      <td>0</td>\n",
       "      <td>0</td>\n",
       "      <td>0</td>\n",
       "    </tr>\n",
       "    <tr>\n",
       "      <th>3</th>\n",
       "      <td>09/11/2021</td>\n",
       "      <td>9:35</td>\n",
       "      <td>BROOKLYN</td>\n",
       "      <td>11208.0</td>\n",
       "      <td>40.667202</td>\n",
       "      <td>-73.866500</td>\n",
       "      <td>(40.667202, -73.8665)</td>\n",
       "      <td>NaN</td>\n",
       "      <td>NaN</td>\n",
       "      <td>1211      LORING AVENUE</td>\n",
       "      <td>...</td>\n",
       "      <td>NaN</td>\n",
       "      <td>4456314</td>\n",
       "      <td>Sedan</td>\n",
       "      <td>NaN</td>\n",
       "      <td>NaN</td>\n",
       "      <td>NaN</td>\n",
       "      <td>NaN</td>\n",
       "      <td>0</td>\n",
       "      <td>0</td>\n",
       "      <td>0</td>\n",
       "    </tr>\n",
       "    <tr>\n",
       "      <th>4</th>\n",
       "      <td>12/14/2021</td>\n",
       "      <td>8:13</td>\n",
       "      <td>BROOKLYN</td>\n",
       "      <td>11233.0</td>\n",
       "      <td>40.683304</td>\n",
       "      <td>-73.917274</td>\n",
       "      <td>(40.683304, -73.917274)</td>\n",
       "      <td>SARATOGA AVENUE</td>\n",
       "      <td>DECATUR STREET</td>\n",
       "      <td>NaN</td>\n",
       "      <td>...</td>\n",
       "      <td>NaN</td>\n",
       "      <td>4486609</td>\n",
       "      <td>NaN</td>\n",
       "      <td>NaN</td>\n",
       "      <td>NaN</td>\n",
       "      <td>NaN</td>\n",
       "      <td>NaN</td>\n",
       "      <td>0</td>\n",
       "      <td>0</td>\n",
       "      <td>0</td>\n",
       "    </tr>\n",
       "  </tbody>\n",
       "</table>\n",
       "<p>5 rows × 24 columns</p>\n",
       "</div>"
      ],
      "text/plain": [
       "   CRASH DATE CRASH TIME   BOROUGH ZIP CODE   LATITUDE  LONGITUDE  \\\n",
       "0  09/11/2021       2:39       NaN      NaN        NaN        NaN   \n",
       "1  03/26/2022      11:45       NaN      NaN        NaN        NaN   \n",
       "2  06/29/2022       6:55       NaN      NaN        NaN        NaN   \n",
       "3  09/11/2021       9:35  BROOKLYN  11208.0  40.667202 -73.866500   \n",
       "4  12/14/2021       8:13  BROOKLYN  11233.0  40.683304 -73.917274   \n",
       "\n",
       "                  LOCATION           ON STREET NAME CROSS STREET NAME  \\\n",
       "0                      NaN    WHITESTONE EXPRESSWAY         20 AVENUE   \n",
       "1                      NaN  QUEENSBORO BRIDGE UPPER               NaN   \n",
       "2                      NaN       THROGS NECK BRIDGE               NaN   \n",
       "3    (40.667202, -73.8665)                      NaN               NaN   \n",
       "4  (40.683304, -73.917274)          SARATOGA AVENUE    DECATUR STREET   \n",
       "\n",
       "           OFF STREET NAME  ... CONTRIBUTING FACTOR VEHICLE 5 COLLISION_ID  \\\n",
       "0                      NaN  ...                           NaN      4455765   \n",
       "1                      NaN  ...                           NaN      4513547   \n",
       "2                      NaN  ...                           NaN      4541903   \n",
       "3  1211      LORING AVENUE  ...                           NaN      4456314   \n",
       "4                      NaN  ...                           NaN      4486609   \n",
       "\n",
       "  VEHICLE TYPE CODE 1 VEHICLE TYPE CODE 2 VEHICLE TYPE CODE 3  \\\n",
       "0               Sedan               Sedan                 NaN   \n",
       "1               Sedan                 NaN                 NaN   \n",
       "2               Sedan       Pick-up Truck                 NaN   \n",
       "3               Sedan                 NaN                 NaN   \n",
       "4                 NaN                 NaN                 NaN   \n",
       "\n",
       "   VEHICLE TYPE CODE 4 VEHICLE TYPE CODE 5 injured deaths_number deaths  \n",
       "0                  NaN                 NaN       4             0      0  \n",
       "1                  NaN                 NaN       2             0      0  \n",
       "2                  NaN                 NaN       0             0      0  \n",
       "3                  NaN                 NaN       0             0      0  \n",
       "4                  NaN                 NaN       0             0      0  \n",
       "\n",
       "[5 rows x 24 columns]"
      ]
     },
     "execution_count": 17,
     "metadata": {},
     "output_type": "execute_result"
    }
   ],
   "source": [
    "df.head()"
   ]
  },
  {
   "attachments": {},
   "cell_type": "markdown",
   "metadata": {},
   "source": [
    "### Crear columna 'vehiculo'"
   ]
  },
  {
   "cell_type": "code",
   "execution_count": 18,
   "metadata": {},
   "outputs": [
    {
     "data": {
      "text/plain": [
       "(1495,)"
      ]
     },
     "execution_count": 18,
     "metadata": {},
     "output_type": "execute_result"
    }
   ],
   "source": [
    "ve_types = df['VEHICLE TYPE CODE 1'].unique()\n",
    "ve_types.shape"
   ]
  },
  {
   "cell_type": "code",
   "execution_count": 19,
   "metadata": {},
   "outputs": [
    {
     "data": {
      "text/plain": [
       "Sedan                                  533047\n",
       "Station Wagon/Sport Utility Vehicle    420386\n",
       "PASSENGER VEHICLE                      416206\n",
       "SPORT UTILITY / STATION WAGON          180291\n",
       "Taxi                                    48942\n",
       "4 dr sedan                              40145\n",
       "Pick-up Truck                           32520\n",
       "TAXI                                    31911\n",
       "VAN                                     25266\n",
       "OTHER                                   22967\n",
       "Box Truck                               22794\n",
       "UNKNOWN                                 19936\n",
       "Bus                                     19719\n",
       "LARGE COM VEH(6 OR MORE TIRES)          14397\n",
       "BUS                                     13993\n",
       "SMALL COM VEH(4 TIRES)                  13216\n",
       "Bike                                    13159\n",
       "PICK-UP TRUCK                           11505\n",
       "LIVERY VEHICLE                          10481\n",
       "Tractor Truck Diesel                     9735\n",
       "Name: VEHICLE TYPE CODE 1, dtype: int64"
      ]
     },
     "execution_count": 19,
     "metadata": {},
     "output_type": "execute_result"
    }
   ],
   "source": [
    "df['VEHICLE TYPE CODE 1'].value_counts()[:20]"
   ]
  },
  {
   "cell_type": "code",
   "execution_count": 20,
   "metadata": {},
   "outputs": [],
   "source": [
    "tipos_ve = ['SUV', 'Automóvil', 'Taxi', 'Bus', 'Vehículo comercial grande', 'Bicicleta', 'Camioneta', 'Van', 'NaN', 'Otro']"
   ]
  },
  {
   "cell_type": "code",
   "execution_count": 21,
   "metadata": {},
   "outputs": [],
   "source": [
    "dic_veh = {\n",
    "'SUV':['Station Wagon/Sport Utility Vehicle', 'SPORT UTILITY / STATION WAGON'],\n",
    "'Automóvil':['PASSENGER VEHICLE ', '4 dr sedan','Sedan'],\n",
    "'Taxi':'TAXI',\n",
    "'Bus':['Bus', 'BUS'],\n",
    "'Vehículo comercial grande':['LARGE COM VEH(6 OR MORE TIRES)', 'Tractor Truck Diesel'],\n",
    "'Bicicleta':['Bike', 'BIKE'],\n",
    "'Camioneta':['Pick-up Truck', 'Box Truck', 'PICK-UP TRUCK', 'LIVERY VEHICLE'],\n",
    "'Van':['VAN', 'Van'],\n",
    "'Moto':['Motorcycle'],\n",
    "'NaN':['UNKNOWN', 'Unknown', 'else'],\n",
    "'Otro':['OTHER', 'Other']\n",
    "}"
   ]
  },
  {
   "cell_type": "code",
   "execution_count": 22,
   "metadata": {},
   "outputs": [],
   "source": [
    "def asignar(vehiculo):\n",
    "    if vehiculo in ['Station Wagon/Sport Utility Vehicle', 'SPORT UTILITY / STATION WAGON']:\n",
    "        return 'SUV'\n",
    "    elif vehiculo in ['PASSENGER VEHICLE ', '4 dr sedan','Sedan']:\n",
    "        return 'Passenger vehicle'\n",
    "    elif vehiculo in ['TAXI', 'Taxi']:\n",
    "        return 'Taxi'\n",
    "    elif vehiculo in ['Bus', 'BUS']:\n",
    "        return 'Bus'\n",
    "    elif vehiculo in ['LARGE COM VEH(6 OR MORE TIRES)', 'Tractor Truck Diesel']:\n",
    "        return 'Large commercial vehicle'\n",
    "    elif vehiculo in ['Bike', 'BIKE']:\n",
    "        return 'Bike'\n",
    "    elif vehiculo in ['Pick-up Truck', 'Box Truck', 'PICK-UP TRUCK', 'LIVERY VEHICLE']:\n",
    "        return 'Truck'\n",
    "    elif vehiculo in ['VAN', 'Van']:\n",
    "        return 'Van'\n",
    "    elif vehiculo in ['Motorcycle']:\n",
    "        return 'Motorcycle'\n",
    "    elif vehiculo in ['OTHER', 'Other']:\n",
    "        return 'Other'\n",
    "    else:\n",
    "        return np.NaN\n",
    "    "
   ]
  },
  {
   "cell_type": "code",
   "execution_count": 23,
   "metadata": {},
   "outputs": [],
   "source": [
    "df['VEHICLE TYPE CODE 1']=df['VEHICLE TYPE CODE 1'].str.strip()"
   ]
  },
  {
   "cell_type": "code",
   "execution_count": 24,
   "metadata": {},
   "outputs": [],
   "source": [
    "df['vehicle']=df['VEHICLE TYPE CODE 1'].apply(asignar)"
   ]
  },
  {
   "cell_type": "code",
   "execution_count": 25,
   "metadata": {},
   "outputs": [],
   "source": [
    "df = df.drop(columns=['VEHICLE TYPE CODE 1', 'VEHICLE TYPE CODE 2', 'VEHICLE TYPE CODE 3', 'VEHICLE TYPE CODE 4', 'VEHICLE TYPE CODE 5'])"
   ]
  },
  {
   "cell_type": "code",
   "execution_count": 26,
   "metadata": {},
   "outputs": [
    {
     "data": {
      "text/html": [
       "<div>\n",
       "<style scoped>\n",
       "    .dataframe tbody tr th:only-of-type {\n",
       "        vertical-align: middle;\n",
       "    }\n",
       "\n",
       "    .dataframe tbody tr th {\n",
       "        vertical-align: top;\n",
       "    }\n",
       "\n",
       "    .dataframe thead th {\n",
       "        text-align: right;\n",
       "    }\n",
       "</style>\n",
       "<table border=\"1\" class=\"dataframe\">\n",
       "  <thead>\n",
       "    <tr style=\"text-align: right;\">\n",
       "      <th></th>\n",
       "      <th>CRASH DATE</th>\n",
       "      <th>CRASH TIME</th>\n",
       "      <th>BOROUGH</th>\n",
       "      <th>ZIP CODE</th>\n",
       "      <th>LATITUDE</th>\n",
       "      <th>LONGITUDE</th>\n",
       "      <th>LOCATION</th>\n",
       "      <th>ON STREET NAME</th>\n",
       "      <th>CROSS STREET NAME</th>\n",
       "      <th>OFF STREET NAME</th>\n",
       "      <th>CONTRIBUTING FACTOR VEHICLE 1</th>\n",
       "      <th>CONTRIBUTING FACTOR VEHICLE 2</th>\n",
       "      <th>CONTRIBUTING FACTOR VEHICLE 3</th>\n",
       "      <th>CONTRIBUTING FACTOR VEHICLE 4</th>\n",
       "      <th>CONTRIBUTING FACTOR VEHICLE 5</th>\n",
       "      <th>COLLISION_ID</th>\n",
       "      <th>injured</th>\n",
       "      <th>deaths_number</th>\n",
       "      <th>deaths</th>\n",
       "      <th>vehicle</th>\n",
       "    </tr>\n",
       "  </thead>\n",
       "  <tbody>\n",
       "    <tr>\n",
       "      <th>0</th>\n",
       "      <td>09/11/2021</td>\n",
       "      <td>2:39</td>\n",
       "      <td>NaN</td>\n",
       "      <td>NaN</td>\n",
       "      <td>NaN</td>\n",
       "      <td>NaN</td>\n",
       "      <td>NaN</td>\n",
       "      <td>WHITESTONE EXPRESSWAY</td>\n",
       "      <td>20 AVENUE</td>\n",
       "      <td>NaN</td>\n",
       "      <td>Aggressive Driving/Road Rage</td>\n",
       "      <td>Unspecified</td>\n",
       "      <td>NaN</td>\n",
       "      <td>NaN</td>\n",
       "      <td>NaN</td>\n",
       "      <td>4455765</td>\n",
       "      <td>4</td>\n",
       "      <td>0</td>\n",
       "      <td>0</td>\n",
       "      <td>Passenger vehicle</td>\n",
       "    </tr>\n",
       "    <tr>\n",
       "      <th>1</th>\n",
       "      <td>03/26/2022</td>\n",
       "      <td>11:45</td>\n",
       "      <td>NaN</td>\n",
       "      <td>NaN</td>\n",
       "      <td>NaN</td>\n",
       "      <td>NaN</td>\n",
       "      <td>NaN</td>\n",
       "      <td>QUEENSBORO BRIDGE UPPER</td>\n",
       "      <td>NaN</td>\n",
       "      <td>NaN</td>\n",
       "      <td>Pavement Slippery</td>\n",
       "      <td>NaN</td>\n",
       "      <td>NaN</td>\n",
       "      <td>NaN</td>\n",
       "      <td>NaN</td>\n",
       "      <td>4513547</td>\n",
       "      <td>2</td>\n",
       "      <td>0</td>\n",
       "      <td>0</td>\n",
       "      <td>Passenger vehicle</td>\n",
       "    </tr>\n",
       "    <tr>\n",
       "      <th>2</th>\n",
       "      <td>06/29/2022</td>\n",
       "      <td>6:55</td>\n",
       "      <td>NaN</td>\n",
       "      <td>NaN</td>\n",
       "      <td>NaN</td>\n",
       "      <td>NaN</td>\n",
       "      <td>NaN</td>\n",
       "      <td>THROGS NECK BRIDGE</td>\n",
       "      <td>NaN</td>\n",
       "      <td>NaN</td>\n",
       "      <td>Following Too Closely</td>\n",
       "      <td>Unspecified</td>\n",
       "      <td>NaN</td>\n",
       "      <td>NaN</td>\n",
       "      <td>NaN</td>\n",
       "      <td>4541903</td>\n",
       "      <td>0</td>\n",
       "      <td>0</td>\n",
       "      <td>0</td>\n",
       "      <td>Passenger vehicle</td>\n",
       "    </tr>\n",
       "    <tr>\n",
       "      <th>3</th>\n",
       "      <td>09/11/2021</td>\n",
       "      <td>9:35</td>\n",
       "      <td>BROOKLYN</td>\n",
       "      <td>11208.0</td>\n",
       "      <td>40.667202</td>\n",
       "      <td>-73.866500</td>\n",
       "      <td>(40.667202, -73.8665)</td>\n",
       "      <td>NaN</td>\n",
       "      <td>NaN</td>\n",
       "      <td>1211      LORING AVENUE</td>\n",
       "      <td>Unspecified</td>\n",
       "      <td>NaN</td>\n",
       "      <td>NaN</td>\n",
       "      <td>NaN</td>\n",
       "      <td>NaN</td>\n",
       "      <td>4456314</td>\n",
       "      <td>0</td>\n",
       "      <td>0</td>\n",
       "      <td>0</td>\n",
       "      <td>Passenger vehicle</td>\n",
       "    </tr>\n",
       "    <tr>\n",
       "      <th>4</th>\n",
       "      <td>12/14/2021</td>\n",
       "      <td>8:13</td>\n",
       "      <td>BROOKLYN</td>\n",
       "      <td>11233.0</td>\n",
       "      <td>40.683304</td>\n",
       "      <td>-73.917274</td>\n",
       "      <td>(40.683304, -73.917274)</td>\n",
       "      <td>SARATOGA AVENUE</td>\n",
       "      <td>DECATUR STREET</td>\n",
       "      <td>NaN</td>\n",
       "      <td>NaN</td>\n",
       "      <td>NaN</td>\n",
       "      <td>NaN</td>\n",
       "      <td>NaN</td>\n",
       "      <td>NaN</td>\n",
       "      <td>4486609</td>\n",
       "      <td>0</td>\n",
       "      <td>0</td>\n",
       "      <td>0</td>\n",
       "      <td>NaN</td>\n",
       "    </tr>\n",
       "  </tbody>\n",
       "</table>\n",
       "</div>"
      ],
      "text/plain": [
       "   CRASH DATE CRASH TIME   BOROUGH ZIP CODE   LATITUDE  LONGITUDE  \\\n",
       "0  09/11/2021       2:39       NaN      NaN        NaN        NaN   \n",
       "1  03/26/2022      11:45       NaN      NaN        NaN        NaN   \n",
       "2  06/29/2022       6:55       NaN      NaN        NaN        NaN   \n",
       "3  09/11/2021       9:35  BROOKLYN  11208.0  40.667202 -73.866500   \n",
       "4  12/14/2021       8:13  BROOKLYN  11233.0  40.683304 -73.917274   \n",
       "\n",
       "                  LOCATION           ON STREET NAME CROSS STREET NAME  \\\n",
       "0                      NaN    WHITESTONE EXPRESSWAY         20 AVENUE   \n",
       "1                      NaN  QUEENSBORO BRIDGE UPPER               NaN   \n",
       "2                      NaN       THROGS NECK BRIDGE               NaN   \n",
       "3    (40.667202, -73.8665)                      NaN               NaN   \n",
       "4  (40.683304, -73.917274)          SARATOGA AVENUE    DECATUR STREET   \n",
       "\n",
       "           OFF STREET NAME CONTRIBUTING FACTOR VEHICLE 1  \\\n",
       "0                      NaN  Aggressive Driving/Road Rage   \n",
       "1                      NaN             Pavement Slippery   \n",
       "2                      NaN         Following Too Closely   \n",
       "3  1211      LORING AVENUE                   Unspecified   \n",
       "4                      NaN                           NaN   \n",
       "\n",
       "  CONTRIBUTING FACTOR VEHICLE 2 CONTRIBUTING FACTOR VEHICLE 3  \\\n",
       "0                   Unspecified                           NaN   \n",
       "1                           NaN                           NaN   \n",
       "2                   Unspecified                           NaN   \n",
       "3                           NaN                           NaN   \n",
       "4                           NaN                           NaN   \n",
       "\n",
       "  CONTRIBUTING FACTOR VEHICLE 4 CONTRIBUTING FACTOR VEHICLE 5  COLLISION_ID  \\\n",
       "0                           NaN                           NaN       4455765   \n",
       "1                           NaN                           NaN       4513547   \n",
       "2                           NaN                           NaN       4541903   \n",
       "3                           NaN                           NaN       4456314   \n",
       "4                           NaN                           NaN       4486609   \n",
       "\n",
       "   injured  deaths_number  deaths            vehicle  \n",
       "0        4              0       0  Passenger vehicle  \n",
       "1        2              0       0  Passenger vehicle  \n",
       "2        0              0       0  Passenger vehicle  \n",
       "3        0              0       0  Passenger vehicle  \n",
       "4        0              0       0                NaN  "
      ]
     },
     "execution_count": 26,
     "metadata": {},
     "output_type": "execute_result"
    }
   ],
   "source": [
    "df.head()"
   ]
  },
  {
   "cell_type": "code",
   "execution_count": 27,
   "metadata": {},
   "outputs": [
    {
     "data": {
      "text/plain": [
       "SUV                         600677\n",
       "Passenger vehicle           573192\n",
       "Taxi                         80853\n",
       "Truck                        77300\n",
       "Bus                          33712\n",
       "Van                          33693\n",
       "Large commercial vehicle     24132\n",
       "Other                        22968\n",
       "Bike                         13159\n",
       "Motorcycle                    7145\n",
       "Name: vehicle, dtype: int64"
      ]
     },
     "execution_count": 27,
     "metadata": {},
     "output_type": "execute_result"
    }
   ],
   "source": [
    "df.vehicle.value_counts()"
   ]
  },
  {
   "cell_type": "code",
   "execution_count": 28,
   "metadata": {},
   "outputs": [
    {
     "data": {
      "text/plain": [
       "(1979623,)"
      ]
     },
     "execution_count": 28,
     "metadata": {},
     "output_type": "execute_result"
    }
   ],
   "source": [
    "df.vehicle.shape"
   ]
  },
  {
   "cell_type": "code",
   "execution_count": 29,
   "metadata": {},
   "outputs": [
    {
     "data": {
      "text/plain": [
       "0.25903517993072417"
      ]
     },
     "execution_count": 29,
     "metadata": {},
     "output_type": "execute_result"
    }
   ],
   "source": [
    "df.vehicle.isnull().sum()/df.vehicle.shape[0]  # Alrededor del 26% de los valores de 'vehicle' son nulos"
   ]
  },
  {
   "attachments": {},
   "cell_type": "markdown",
   "metadata": {},
   "source": [
    "### Crear columna 'main _contributing_factor'"
   ]
  },
  {
   "cell_type": "code",
   "execution_count": 30,
   "metadata": {},
   "outputs": [],
   "source": [
    "import pandas as pd\n",
    "import numpy as np\n",
    "\n",
    "# Crear una lista de las columnas de \"CONTRIBUTING FACTOR\" de los 5 vehículos\n",
    "cf_cols = ['CONTRIBUTING FACTOR VEHICLE {}'.format(i) for i in range(1,6)]\n",
    "\n",
    "# Función que recibe una fila y devuelve el contributing factor principal\n",
    "def get_main_cf(row):\n",
    "    cfs = row[cf_cols].values.tolist() # Lista con los CF de los 5 vehículos\n",
    "    cfs_clean = [cf for cf in cfs if cf not in [np.nan, '', 'Unspecified']] # CF sin valores nulos o vacíos\n",
    "    if len(cfs_clean) == 0: # Si todos los CF están en blanco o son Unspecified\n",
    "        return 'NO DATA'\n",
    "    if cfs_clean.count(cfs_clean[0]) == len(cfs_clean): # Si todos los CF son iguales\n",
    "        if cfs_clean[0] == 'Unspecified': # Si el CF es Unspecified\n",
    "            if 'Unspecified' in [cf for cf in cfs if cf != cfs_clean[0]] or all([cf in [np.nan, ''] for cf in cfs if cf != cfs_clean[0]]): # Si los demás CF también son Unspecified o están en blanco\n",
    "                return 'Unspecified'\n",
    "        else:\n",
    "            return cfs_clean[0]\n",
    "    else: # Si hay CF diferentes\n",
    "        cfs_counts = {cf: cfs_clean.count(cf) for cf in set(cfs_clean)} # Diccionario con la cuenta de cada CF\n",
    "        cfs_counts_sorted = sorted(cfs_counts.items(), key=lambda x: x[1], reverse=True) # Lista de tuplas (CF, cuenta) ordenada por cuenta\n",
    "        if cfs_counts_sorted[0][0] == 'Unspecified': # Si el CF más común es Unspecified\n",
    "            return 'Unspecified'\n",
    "        else:\n",
    "            return cfs_counts_sorted[0][0]\n",
    "\n",
    "# Crear una nueva columna con el CF principal de cada fila\n",
    "df['main _contributing_factor'] = df.apply(get_main_cf, axis=1)"
   ]
  },
  {
   "cell_type": "code",
   "execution_count": 31,
   "metadata": {},
   "outputs": [],
   "source": [
    "df.rename(columns={'main _contributing_factor':'main_contributing_factor'}, inplace=True)"
   ]
  },
  {
   "cell_type": "code",
   "execution_count": 32,
   "metadata": {},
   "outputs": [
    {
     "data": {
      "text/html": [
       "<div>\n",
       "<style scoped>\n",
       "    .dataframe tbody tr th:only-of-type {\n",
       "        vertical-align: middle;\n",
       "    }\n",
       "\n",
       "    .dataframe tbody tr th {\n",
       "        vertical-align: top;\n",
       "    }\n",
       "\n",
       "    .dataframe thead th {\n",
       "        text-align: right;\n",
       "    }\n",
       "</style>\n",
       "<table border=\"1\" class=\"dataframe\">\n",
       "  <thead>\n",
       "    <tr style=\"text-align: right;\">\n",
       "      <th></th>\n",
       "      <th>CRASH DATE</th>\n",
       "      <th>CRASH TIME</th>\n",
       "      <th>BOROUGH</th>\n",
       "      <th>ZIP CODE</th>\n",
       "      <th>LATITUDE</th>\n",
       "      <th>LONGITUDE</th>\n",
       "      <th>LOCATION</th>\n",
       "      <th>ON STREET NAME</th>\n",
       "      <th>CROSS STREET NAME</th>\n",
       "      <th>OFF STREET NAME</th>\n",
       "      <th>...</th>\n",
       "      <th>CONTRIBUTING FACTOR VEHICLE 2</th>\n",
       "      <th>CONTRIBUTING FACTOR VEHICLE 3</th>\n",
       "      <th>CONTRIBUTING FACTOR VEHICLE 4</th>\n",
       "      <th>CONTRIBUTING FACTOR VEHICLE 5</th>\n",
       "      <th>COLLISION_ID</th>\n",
       "      <th>injured</th>\n",
       "      <th>deaths_number</th>\n",
       "      <th>deaths</th>\n",
       "      <th>vehicle</th>\n",
       "      <th>main_contributing_factor</th>\n",
       "    </tr>\n",
       "  </thead>\n",
       "  <tbody>\n",
       "    <tr>\n",
       "      <th>0</th>\n",
       "      <td>09/11/2021</td>\n",
       "      <td>2:39</td>\n",
       "      <td>NaN</td>\n",
       "      <td>NaN</td>\n",
       "      <td>NaN</td>\n",
       "      <td>NaN</td>\n",
       "      <td>NaN</td>\n",
       "      <td>WHITESTONE EXPRESSWAY</td>\n",
       "      <td>20 AVENUE</td>\n",
       "      <td>NaN</td>\n",
       "      <td>...</td>\n",
       "      <td>Unspecified</td>\n",
       "      <td>NaN</td>\n",
       "      <td>NaN</td>\n",
       "      <td>NaN</td>\n",
       "      <td>4455765</td>\n",
       "      <td>4</td>\n",
       "      <td>0</td>\n",
       "      <td>0</td>\n",
       "      <td>Passenger vehicle</td>\n",
       "      <td>Aggressive Driving/Road Rage</td>\n",
       "    </tr>\n",
       "    <tr>\n",
       "      <th>1</th>\n",
       "      <td>03/26/2022</td>\n",
       "      <td>11:45</td>\n",
       "      <td>NaN</td>\n",
       "      <td>NaN</td>\n",
       "      <td>NaN</td>\n",
       "      <td>NaN</td>\n",
       "      <td>NaN</td>\n",
       "      <td>QUEENSBORO BRIDGE UPPER</td>\n",
       "      <td>NaN</td>\n",
       "      <td>NaN</td>\n",
       "      <td>...</td>\n",
       "      <td>NaN</td>\n",
       "      <td>NaN</td>\n",
       "      <td>NaN</td>\n",
       "      <td>NaN</td>\n",
       "      <td>4513547</td>\n",
       "      <td>2</td>\n",
       "      <td>0</td>\n",
       "      <td>0</td>\n",
       "      <td>Passenger vehicle</td>\n",
       "      <td>Pavement Slippery</td>\n",
       "    </tr>\n",
       "    <tr>\n",
       "      <th>2</th>\n",
       "      <td>06/29/2022</td>\n",
       "      <td>6:55</td>\n",
       "      <td>NaN</td>\n",
       "      <td>NaN</td>\n",
       "      <td>NaN</td>\n",
       "      <td>NaN</td>\n",
       "      <td>NaN</td>\n",
       "      <td>THROGS NECK BRIDGE</td>\n",
       "      <td>NaN</td>\n",
       "      <td>NaN</td>\n",
       "      <td>...</td>\n",
       "      <td>Unspecified</td>\n",
       "      <td>NaN</td>\n",
       "      <td>NaN</td>\n",
       "      <td>NaN</td>\n",
       "      <td>4541903</td>\n",
       "      <td>0</td>\n",
       "      <td>0</td>\n",
       "      <td>0</td>\n",
       "      <td>Passenger vehicle</td>\n",
       "      <td>Following Too Closely</td>\n",
       "    </tr>\n",
       "    <tr>\n",
       "      <th>3</th>\n",
       "      <td>09/11/2021</td>\n",
       "      <td>9:35</td>\n",
       "      <td>BROOKLYN</td>\n",
       "      <td>11208.0</td>\n",
       "      <td>40.667202</td>\n",
       "      <td>-73.866500</td>\n",
       "      <td>(40.667202, -73.8665)</td>\n",
       "      <td>NaN</td>\n",
       "      <td>NaN</td>\n",
       "      <td>1211      LORING AVENUE</td>\n",
       "      <td>...</td>\n",
       "      <td>NaN</td>\n",
       "      <td>NaN</td>\n",
       "      <td>NaN</td>\n",
       "      <td>NaN</td>\n",
       "      <td>4456314</td>\n",
       "      <td>0</td>\n",
       "      <td>0</td>\n",
       "      <td>0</td>\n",
       "      <td>Passenger vehicle</td>\n",
       "      <td>NO DATA</td>\n",
       "    </tr>\n",
       "    <tr>\n",
       "      <th>4</th>\n",
       "      <td>12/14/2021</td>\n",
       "      <td>8:13</td>\n",
       "      <td>BROOKLYN</td>\n",
       "      <td>11233.0</td>\n",
       "      <td>40.683304</td>\n",
       "      <td>-73.917274</td>\n",
       "      <td>(40.683304, -73.917274)</td>\n",
       "      <td>SARATOGA AVENUE</td>\n",
       "      <td>DECATUR STREET</td>\n",
       "      <td>NaN</td>\n",
       "      <td>...</td>\n",
       "      <td>NaN</td>\n",
       "      <td>NaN</td>\n",
       "      <td>NaN</td>\n",
       "      <td>NaN</td>\n",
       "      <td>4486609</td>\n",
       "      <td>0</td>\n",
       "      <td>0</td>\n",
       "      <td>0</td>\n",
       "      <td>NaN</td>\n",
       "      <td>NO DATA</td>\n",
       "    </tr>\n",
       "  </tbody>\n",
       "</table>\n",
       "<p>5 rows × 21 columns</p>\n",
       "</div>"
      ],
      "text/plain": [
       "   CRASH DATE CRASH TIME   BOROUGH ZIP CODE   LATITUDE  LONGITUDE  \\\n",
       "0  09/11/2021       2:39       NaN      NaN        NaN        NaN   \n",
       "1  03/26/2022      11:45       NaN      NaN        NaN        NaN   \n",
       "2  06/29/2022       6:55       NaN      NaN        NaN        NaN   \n",
       "3  09/11/2021       9:35  BROOKLYN  11208.0  40.667202 -73.866500   \n",
       "4  12/14/2021       8:13  BROOKLYN  11233.0  40.683304 -73.917274   \n",
       "\n",
       "                  LOCATION           ON STREET NAME CROSS STREET NAME  \\\n",
       "0                      NaN    WHITESTONE EXPRESSWAY         20 AVENUE   \n",
       "1                      NaN  QUEENSBORO BRIDGE UPPER               NaN   \n",
       "2                      NaN       THROGS NECK BRIDGE               NaN   \n",
       "3    (40.667202, -73.8665)                      NaN               NaN   \n",
       "4  (40.683304, -73.917274)          SARATOGA AVENUE    DECATUR STREET   \n",
       "\n",
       "           OFF STREET NAME  ... CONTRIBUTING FACTOR VEHICLE 2  \\\n",
       "0                      NaN  ...                   Unspecified   \n",
       "1                      NaN  ...                           NaN   \n",
       "2                      NaN  ...                   Unspecified   \n",
       "3  1211      LORING AVENUE  ...                           NaN   \n",
       "4                      NaN  ...                           NaN   \n",
       "\n",
       "  CONTRIBUTING FACTOR VEHICLE 3 CONTRIBUTING FACTOR VEHICLE 4  \\\n",
       "0                           NaN                           NaN   \n",
       "1                           NaN                           NaN   \n",
       "2                           NaN                           NaN   \n",
       "3                           NaN                           NaN   \n",
       "4                           NaN                           NaN   \n",
       "\n",
       "  CONTRIBUTING FACTOR VEHICLE 5 COLLISION_ID  injured  deaths_number  deaths  \\\n",
       "0                           NaN      4455765        4              0       0   \n",
       "1                           NaN      4513547        2              0       0   \n",
       "2                           NaN      4541903        0              0       0   \n",
       "3                           NaN      4456314        0              0       0   \n",
       "4                           NaN      4486609        0              0       0   \n",
       "\n",
       "             vehicle      main_contributing_factor  \n",
       "0  Passenger vehicle  Aggressive Driving/Road Rage  \n",
       "1  Passenger vehicle             Pavement Slippery  \n",
       "2  Passenger vehicle         Following Too Closely  \n",
       "3  Passenger vehicle                       NO DATA  \n",
       "4                NaN                       NO DATA  \n",
       "\n",
       "[5 rows x 21 columns]"
      ]
     },
     "execution_count": 32,
     "metadata": {},
     "output_type": "execute_result"
    }
   ],
   "source": [
    "df.head()"
   ]
  },
  {
   "cell_type": "code",
   "execution_count": 33,
   "metadata": {},
   "outputs": [
    {
     "data": {
      "text/plain": [
       "NO DATA                           689813\n",
       "Driver Inattention/Distraction    388238\n",
       "Failure to Yield Right-of-Way     121517\n",
       "Following Too Closely             114966\n",
       "Backing Unsafely                   73248\n",
       "                                   ...  \n",
       "Windshield Inadequate                 80\n",
       "Cell Phone (hand-held)                72\n",
       "Texting                               48\n",
       "Listening/Using Headphones            24\n",
       "1                                     14\n",
       "Name: main_contributing_factor, Length: 61, dtype: int64"
      ]
     },
     "execution_count": 33,
     "metadata": {},
     "output_type": "execute_result"
    }
   ],
   "source": [
    "df['main_contributing_factor'].value_counts()"
   ]
  },
  {
   "cell_type": "code",
   "execution_count": 34,
   "metadata": {},
   "outputs": [
    {
     "data": {
      "text/plain": [
       "0.6246063013008032"
      ]
     },
     "execution_count": 34,
     "metadata": {},
     "output_type": "execute_result"
    }
   ],
   "source": [
    "df['main_contributing_factor'].value_counts()[1:25].sum()/df.shape[0]"
   ]
  },
  {
   "cell_type": "code",
   "execution_count": 35,
   "metadata": {},
   "outputs": [
    {
     "data": {
      "text/plain": [
       "0.0"
      ]
     },
     "execution_count": 35,
     "metadata": {},
     "output_type": "execute_result"
    }
   ],
   "source": [
    "df.main_contributing_factor.isnull().sum()/df.shape[0]"
   ]
  },
  {
   "cell_type": "code",
   "execution_count": 36,
   "metadata": {},
   "outputs": [],
   "source": [
    "df.main_contributing_factor.replace(['NO DATA', '80', '1', 'nan', np.nan], np.NaN, inplace=True)\n",
    "df.main_contributing_factor.replace(['Cell Phone (hand-Held)', 'Texting', 'Cell Phone (hand-held)', 'Cell Phone (hands-free)'], 'Cell Phone', inplace=True)\n",
    "df.main_contributing_factor.replace(['Drugs (Illegal)', 'Drugs (illegal)'], 'Drugs (Illegal)', inplace=True)\n",
    "df.main_contributing_factor.replace('Illnes', 'Illness', inplace=True)\n",
    "df.main_contributing_factor.replace('Other Vehicular','Other', inplace=True)"
   ]
  },
  {
   "cell_type": "code",
   "execution_count": 37,
   "metadata": {},
   "outputs": [
    {
     "data": {
      "text/plain": [
       "['Reaction to Uninvolved Vehicle',\n",
       " 'Prescription Medication',\n",
       " 'Outside Car Distraction',\n",
       " 'Oversized Vehicle',\n",
       " 'View Obstructed/Limited',\n",
       " 'Pedestrian/Bicyclist/Other Pedestrian Error/Confusion',\n",
       " 'Aggressive Driving/Road Rage',\n",
       " 'Physical Disability',\n",
       " 'Passenger Distraction',\n",
       " 'Brakes Defective',\n",
       " 'Fell Asleep',\n",
       " 'Illness',\n",
       " 'Glare',\n",
       " 'Obstruction/Debris',\n",
       " 'Failure to Keep Right',\n",
       " 'Steering Failure',\n",
       " 'Pavement Defective',\n",
       " 'Tire Failure/Inadequate',\n",
       " 'Other Electronic Device',\n",
       " 'Reaction to Other Uninvolved Vehicle',\n",
       " 'Animals Action',\n",
       " 'Driverless/Runaway Vehicle',\n",
       " 'Drugs (Illegal)',\n",
       " 'Lane Marking Improper/Inadequate',\n",
       " 'Accelerator Defective',\n",
       " 'Cell Phone',\n",
       " 'Traffic Control Device Improper/Non-Working',\n",
       " 'Tow Hitch Defective',\n",
       " 'Other Lighting Defects',\n",
       " 'Headlights Defective',\n",
       " 'Tinted Windows',\n",
       " 'Using On Board Navigation Device',\n",
       " 'Eating or Drinking',\n",
       " 'Vehicle Vandalism',\n",
       " 'Shoulders Defective/Improper',\n",
       " 'Windshield Inadequate',\n",
       " 'Listening/Using Headphones']"
      ]
     },
     "execution_count": 37,
     "metadata": {},
     "output_type": "execute_result"
    }
   ],
   "source": [
    "b = df.main_contributing_factor.value_counts()[16:]\n",
    "least_factor_list = list(b.index)\n",
    "least_factor_list"
   ]
  },
  {
   "cell_type": "code",
   "execution_count": 38,
   "metadata": {},
   "outputs": [],
   "source": [
    "df.main_contributing_factor.replace(least_factor_list, 'Other', inplace=True)"
   ]
  },
  {
   "cell_type": "code",
   "execution_count": 39,
   "metadata": {},
   "outputs": [],
   "source": [
    "df = df.drop(columns=['CONTRIBUTING FACTOR VEHICLE 1', 'CONTRIBUTING FACTOR VEHICLE 2', 'CONTRIBUTING FACTOR VEHICLE 3', 'CONTRIBUTING FACTOR VEHICLE 4', 'CONTRIBUTING FACTOR VEHICLE 5'])"
   ]
  },
  {
   "attachments": {},
   "cell_type": "markdown",
   "metadata": {},
   "source": [
    "### Creación de columna \"road_type\""
   ]
  },
  {
   "cell_type": "code",
   "execution_count": 40,
   "metadata": {},
   "outputs": [],
   "source": [
    "avenue=df[\"ON STREET NAME\"].str.contains(\"avenue|ave\", case=False)\n",
    "avenue=avenue.rename(\"avenue\")"
   ]
  },
  {
   "cell_type": "code",
   "execution_count": 41,
   "metadata": {},
   "outputs": [],
   "source": [
    "street=df[\"ON STREET NAME\"].str.contains(\"street\", case=False)\n",
    "street=street.rename(\"street\")"
   ]
  },
  {
   "cell_type": "code",
   "execution_count": 42,
   "metadata": {},
   "outputs": [],
   "source": [
    "way=df[\"ON STREET NAME\"].str.contains(\"expressway|highway|parkway\", case=False)\n",
    "way=way.rename(\"way\")"
   ]
  },
  {
   "cell_type": "code",
   "execution_count": 43,
   "metadata": {},
   "outputs": [],
   "source": [
    "road=df[\"ON STREET NAME\"].str.contains(\"road\", case=False)\n",
    "road=road.rename(\"road\")"
   ]
  },
  {
   "cell_type": "code",
   "execution_count": 44,
   "metadata": {},
   "outputs": [],
   "source": [
    "boulevard=df[\"ON STREET NAME\"].str.contains(\"boulevard\", case=False)\n",
    "boulevard=boulevard.rename(\"boulevard\")"
   ]
  },
  {
   "cell_type": "code",
   "execution_count": 45,
   "metadata": {},
   "outputs": [],
   "source": [
    "# unir cada serie al dataframe\n",
    "df = df.merge(right=avenue, how=\"left\", right_index=True, left_index=True)\n",
    "df = df.merge(right=street, how=\"left\", right_index=True, left_index=True)\n",
    "df = df.merge(right=way, how=\"left\", right_index=True, left_index=True)\n",
    "df = df.merge(right=road, how=\"left\", right_index=True, left_index=True)\n",
    "df = df.merge(right=boulevard, how=\"left\", right_index=True, left_index=True)"
   ]
  },
  {
   "cell_type": "code",
   "execution_count": 46,
   "metadata": {},
   "outputs": [
    {
     "data": {
      "text/html": [
       "<div>\n",
       "<style scoped>\n",
       "    .dataframe tbody tr th:only-of-type {\n",
       "        vertical-align: middle;\n",
       "    }\n",
       "\n",
       "    .dataframe tbody tr th {\n",
       "        vertical-align: top;\n",
       "    }\n",
       "\n",
       "    .dataframe thead th {\n",
       "        text-align: right;\n",
       "    }\n",
       "</style>\n",
       "<table border=\"1\" class=\"dataframe\">\n",
       "  <thead>\n",
       "    <tr style=\"text-align: right;\">\n",
       "      <th></th>\n",
       "      <th>CRASH DATE</th>\n",
       "      <th>CRASH TIME</th>\n",
       "      <th>BOROUGH</th>\n",
       "      <th>ZIP CODE</th>\n",
       "      <th>LATITUDE</th>\n",
       "      <th>LONGITUDE</th>\n",
       "      <th>LOCATION</th>\n",
       "      <th>ON STREET NAME</th>\n",
       "      <th>CROSS STREET NAME</th>\n",
       "      <th>OFF STREET NAME</th>\n",
       "      <th>...</th>\n",
       "      <th>injured</th>\n",
       "      <th>deaths_number</th>\n",
       "      <th>deaths</th>\n",
       "      <th>vehicle</th>\n",
       "      <th>main_contributing_factor</th>\n",
       "      <th>avenue</th>\n",
       "      <th>street</th>\n",
       "      <th>way</th>\n",
       "      <th>road</th>\n",
       "      <th>boulevard</th>\n",
       "    </tr>\n",
       "  </thead>\n",
       "  <tbody>\n",
       "    <tr>\n",
       "      <th>0</th>\n",
       "      <td>09/11/2021</td>\n",
       "      <td>2:39</td>\n",
       "      <td>NaN</td>\n",
       "      <td>NaN</td>\n",
       "      <td>NaN</td>\n",
       "      <td>NaN</td>\n",
       "      <td>NaN</td>\n",
       "      <td>WHITESTONE EXPRESSWAY</td>\n",
       "      <td>20 AVENUE</td>\n",
       "      <td>NaN</td>\n",
       "      <td>...</td>\n",
       "      <td>4</td>\n",
       "      <td>0</td>\n",
       "      <td>0</td>\n",
       "      <td>Passenger vehicle</td>\n",
       "      <td>Other</td>\n",
       "      <td>False</td>\n",
       "      <td>False</td>\n",
       "      <td>True</td>\n",
       "      <td>False</td>\n",
       "      <td>False</td>\n",
       "    </tr>\n",
       "    <tr>\n",
       "      <th>1</th>\n",
       "      <td>03/26/2022</td>\n",
       "      <td>11:45</td>\n",
       "      <td>NaN</td>\n",
       "      <td>NaN</td>\n",
       "      <td>NaN</td>\n",
       "      <td>NaN</td>\n",
       "      <td>NaN</td>\n",
       "      <td>QUEENSBORO BRIDGE UPPER</td>\n",
       "      <td>NaN</td>\n",
       "      <td>NaN</td>\n",
       "      <td>...</td>\n",
       "      <td>2</td>\n",
       "      <td>0</td>\n",
       "      <td>0</td>\n",
       "      <td>Passenger vehicle</td>\n",
       "      <td>Pavement Slippery</td>\n",
       "      <td>False</td>\n",
       "      <td>False</td>\n",
       "      <td>False</td>\n",
       "      <td>False</td>\n",
       "      <td>False</td>\n",
       "    </tr>\n",
       "    <tr>\n",
       "      <th>2</th>\n",
       "      <td>06/29/2022</td>\n",
       "      <td>6:55</td>\n",
       "      <td>NaN</td>\n",
       "      <td>NaN</td>\n",
       "      <td>NaN</td>\n",
       "      <td>NaN</td>\n",
       "      <td>NaN</td>\n",
       "      <td>THROGS NECK BRIDGE</td>\n",
       "      <td>NaN</td>\n",
       "      <td>NaN</td>\n",
       "      <td>...</td>\n",
       "      <td>0</td>\n",
       "      <td>0</td>\n",
       "      <td>0</td>\n",
       "      <td>Passenger vehicle</td>\n",
       "      <td>Following Too Closely</td>\n",
       "      <td>False</td>\n",
       "      <td>False</td>\n",
       "      <td>False</td>\n",
       "      <td>False</td>\n",
       "      <td>False</td>\n",
       "    </tr>\n",
       "    <tr>\n",
       "      <th>3</th>\n",
       "      <td>09/11/2021</td>\n",
       "      <td>9:35</td>\n",
       "      <td>BROOKLYN</td>\n",
       "      <td>11208.0</td>\n",
       "      <td>40.667202</td>\n",
       "      <td>-73.866500</td>\n",
       "      <td>(40.667202, -73.8665)</td>\n",
       "      <td>NaN</td>\n",
       "      <td>NaN</td>\n",
       "      <td>1211      LORING AVENUE</td>\n",
       "      <td>...</td>\n",
       "      <td>0</td>\n",
       "      <td>0</td>\n",
       "      <td>0</td>\n",
       "      <td>Passenger vehicle</td>\n",
       "      <td>NaN</td>\n",
       "      <td>NaN</td>\n",
       "      <td>NaN</td>\n",
       "      <td>NaN</td>\n",
       "      <td>NaN</td>\n",
       "      <td>NaN</td>\n",
       "    </tr>\n",
       "    <tr>\n",
       "      <th>4</th>\n",
       "      <td>12/14/2021</td>\n",
       "      <td>8:13</td>\n",
       "      <td>BROOKLYN</td>\n",
       "      <td>11233.0</td>\n",
       "      <td>40.683304</td>\n",
       "      <td>-73.917274</td>\n",
       "      <td>(40.683304, -73.917274)</td>\n",
       "      <td>SARATOGA AVENUE</td>\n",
       "      <td>DECATUR STREET</td>\n",
       "      <td>NaN</td>\n",
       "      <td>...</td>\n",
       "      <td>0</td>\n",
       "      <td>0</td>\n",
       "      <td>0</td>\n",
       "      <td>NaN</td>\n",
       "      <td>NaN</td>\n",
       "      <td>True</td>\n",
       "      <td>False</td>\n",
       "      <td>False</td>\n",
       "      <td>False</td>\n",
       "      <td>False</td>\n",
       "    </tr>\n",
       "  </tbody>\n",
       "</table>\n",
       "<p>5 rows × 21 columns</p>\n",
       "</div>"
      ],
      "text/plain": [
       "   CRASH DATE CRASH TIME   BOROUGH ZIP CODE   LATITUDE  LONGITUDE  \\\n",
       "0  09/11/2021       2:39       NaN      NaN        NaN        NaN   \n",
       "1  03/26/2022      11:45       NaN      NaN        NaN        NaN   \n",
       "2  06/29/2022       6:55       NaN      NaN        NaN        NaN   \n",
       "3  09/11/2021       9:35  BROOKLYN  11208.0  40.667202 -73.866500   \n",
       "4  12/14/2021       8:13  BROOKLYN  11233.0  40.683304 -73.917274   \n",
       "\n",
       "                  LOCATION           ON STREET NAME CROSS STREET NAME  \\\n",
       "0                      NaN    WHITESTONE EXPRESSWAY         20 AVENUE   \n",
       "1                      NaN  QUEENSBORO BRIDGE UPPER               NaN   \n",
       "2                      NaN       THROGS NECK BRIDGE               NaN   \n",
       "3    (40.667202, -73.8665)                      NaN               NaN   \n",
       "4  (40.683304, -73.917274)          SARATOGA AVENUE    DECATUR STREET   \n",
       "\n",
       "           OFF STREET NAME  ...  injured  deaths_number  deaths  \\\n",
       "0                      NaN  ...        4              0       0   \n",
       "1                      NaN  ...        2              0       0   \n",
       "2                      NaN  ...        0              0       0   \n",
       "3  1211      LORING AVENUE  ...        0              0       0   \n",
       "4                      NaN  ...        0              0       0   \n",
       "\n",
       "             vehicle main_contributing_factor avenue street    way   road  \\\n",
       "0  Passenger vehicle                    Other  False  False   True  False   \n",
       "1  Passenger vehicle        Pavement Slippery  False  False  False  False   \n",
       "2  Passenger vehicle    Following Too Closely  False  False  False  False   \n",
       "3  Passenger vehicle                      NaN    NaN    NaN    NaN    NaN   \n",
       "4                NaN                      NaN   True  False  False  False   \n",
       "\n",
       "  boulevard  \n",
       "0     False  \n",
       "1     False  \n",
       "2     False  \n",
       "3       NaN  \n",
       "4     False  \n",
       "\n",
       "[5 rows x 21 columns]"
      ]
     },
     "execution_count": 46,
     "metadata": {},
     "output_type": "execute_result"
    }
   ],
   "source": [
    "df.head()"
   ]
  },
  {
   "cell_type": "code",
   "execution_count": 47,
   "metadata": {},
   "outputs": [],
   "source": [
    "def f(row):\n",
    "    if row[\"avenue\"] == True:\n",
    "        val = \"avenue\"\n",
    "    elif row[\"road\"] == True:\n",
    "        val = \"road\"\n",
    "    elif row[\"street\"]== True:\n",
    "        val= \"street\"\n",
    "    elif row[\"way\"]== True:\n",
    "        val= \"way\"\n",
    "    elif row[\"boulevard\"]== True:\n",
    "        val= \"boulevard\"\n",
    "    else:\n",
    "        val = math.nan\n",
    "    return val"
   ]
  },
  {
   "cell_type": "code",
   "execution_count": 48,
   "metadata": {},
   "outputs": [],
   "source": [
    "df[\"road_type\"] = df.apply(f, axis=1)"
   ]
  },
  {
   "cell_type": "code",
   "execution_count": 49,
   "metadata": {},
   "outputs": [],
   "source": [
    "df.drop(columns=[\"avenue\", \"street\", \"way\", \"road\",\"boulevard\"], inplace= True)\n",
    "df.drop(columns=[\"ON STREET NAME\", \"CROSS STREET NAME\", \"OFF STREET NAME\"], inplace= True)"
   ]
  },
  {
   "cell_type": "code",
   "execution_count": 50,
   "metadata": {},
   "outputs": [
    {
     "data": {
      "text/plain": [
       "avenue       592617\n",
       "street       500085\n",
       "way          136744\n",
       "boulevard    116427\n",
       "road          87992\n",
       "Name: road_type, dtype: int64"
      ]
     },
     "execution_count": 50,
     "metadata": {},
     "output_type": "execute_result"
    }
   ],
   "source": [
    "df.road_type.value_counts()"
   ]
  },
  {
   "cell_type": "code",
   "execution_count": 51,
   "metadata": {},
   "outputs": [
    {
     "data": {
      "text/plain": [
       "0.27568784561504894"
      ]
     },
     "execution_count": 51,
     "metadata": {},
     "output_type": "execute_result"
    }
   ],
   "source": [
    "df.road_type.isnull().sum()/df.shape[0]"
   ]
  },
  {
   "cell_type": "code",
   "execution_count": 52,
   "metadata": {},
   "outputs": [
    {
     "data": {
      "text/plain": [
       "Index(['CRASH DATE', 'CRASH TIME', 'BOROUGH', 'ZIP CODE', 'LATITUDE',\n",
       "       'LONGITUDE', 'LOCATION', 'COLLISION_ID', 'injured', 'deaths_number',\n",
       "       'deaths', 'vehicle', 'main_contributing_factor', 'road_type'],\n",
       "      dtype='object')"
      ]
     },
     "execution_count": 52,
     "metadata": {},
     "output_type": "execute_result"
    }
   ],
   "source": [
    "df.columns"
   ]
  },
  {
   "attachments": {},
   "cell_type": "markdown",
   "metadata": {},
   "source": [
    "### Creación de columna 'time_of_day' con momento del dia del choque"
   ]
  },
  {
   "cell_type": "code",
   "execution_count": 53,
   "metadata": {},
   "outputs": [],
   "source": [
    "df[\"crash_datetime\"] = df[\"CRASH TIME\"].apply(pd.to_datetime)\n",
    "df[\"crash_time\"]=df[\"crash_datetime\"].dt.time\n",
    "df.drop(columns=\"crash_datetime\", inplace=True)"
   ]
  },
  {
   "cell_type": "code",
   "execution_count": 54,
   "metadata": {},
   "outputs": [],
   "source": [
    "# creo las mascaras booleanas para determinar aquellos choques que ocurrieron durante el dia y los almaceno en la columna \"horario_diurno\"\n",
    "from datetime import time\n",
    "hora_tope= time(18, 0, 0)\n",
    "hora_base=time(6, 0, 0)\n",
    "df[\"horario_diurno\"]=(df[\"crash_time\"]<hora_tope) & (df[\"crash_time\"]>=hora_base)"
   ]
  },
  {
   "cell_type": "code",
   "execution_count": 55,
   "metadata": {},
   "outputs": [],
   "source": [
    "df[\"horario_diurno\"].replace({True: \"day\", False: \"night\"}, inplace=True)\n",
    "df.rename(columns={\"horario_diurno\": \"time_of_day\"}, inplace=True)"
   ]
  },
  {
   "cell_type": "code",
   "execution_count": 56,
   "metadata": {},
   "outputs": [
    {
     "data": {
      "text/html": [
       "<div>\n",
       "<style scoped>\n",
       "    .dataframe tbody tr th:only-of-type {\n",
       "        vertical-align: middle;\n",
       "    }\n",
       "\n",
       "    .dataframe tbody tr th {\n",
       "        vertical-align: top;\n",
       "    }\n",
       "\n",
       "    .dataframe thead th {\n",
       "        text-align: right;\n",
       "    }\n",
       "</style>\n",
       "<table border=\"1\" class=\"dataframe\">\n",
       "  <thead>\n",
       "    <tr style=\"text-align: right;\">\n",
       "      <th></th>\n",
       "      <th>CRASH DATE</th>\n",
       "      <th>CRASH TIME</th>\n",
       "      <th>BOROUGH</th>\n",
       "      <th>ZIP CODE</th>\n",
       "      <th>LATITUDE</th>\n",
       "      <th>LONGITUDE</th>\n",
       "      <th>LOCATION</th>\n",
       "      <th>COLLISION_ID</th>\n",
       "      <th>injured</th>\n",
       "      <th>deaths_number</th>\n",
       "      <th>deaths</th>\n",
       "      <th>vehicle</th>\n",
       "      <th>main_contributing_factor</th>\n",
       "      <th>road_type</th>\n",
       "      <th>crash_time</th>\n",
       "      <th>time_of_day</th>\n",
       "    </tr>\n",
       "  </thead>\n",
       "  <tbody>\n",
       "    <tr>\n",
       "      <th>0</th>\n",
       "      <td>09/11/2021</td>\n",
       "      <td>2:39</td>\n",
       "      <td>NaN</td>\n",
       "      <td>NaN</td>\n",
       "      <td>NaN</td>\n",
       "      <td>NaN</td>\n",
       "      <td>NaN</td>\n",
       "      <td>4455765</td>\n",
       "      <td>4</td>\n",
       "      <td>0</td>\n",
       "      <td>0</td>\n",
       "      <td>Passenger vehicle</td>\n",
       "      <td>Other</td>\n",
       "      <td>way</td>\n",
       "      <td>02:39:00</td>\n",
       "      <td>night</td>\n",
       "    </tr>\n",
       "    <tr>\n",
       "      <th>1</th>\n",
       "      <td>03/26/2022</td>\n",
       "      <td>11:45</td>\n",
       "      <td>NaN</td>\n",
       "      <td>NaN</td>\n",
       "      <td>NaN</td>\n",
       "      <td>NaN</td>\n",
       "      <td>NaN</td>\n",
       "      <td>4513547</td>\n",
       "      <td>2</td>\n",
       "      <td>0</td>\n",
       "      <td>0</td>\n",
       "      <td>Passenger vehicle</td>\n",
       "      <td>Pavement Slippery</td>\n",
       "      <td>NaN</td>\n",
       "      <td>11:45:00</td>\n",
       "      <td>day</td>\n",
       "    </tr>\n",
       "    <tr>\n",
       "      <th>2</th>\n",
       "      <td>06/29/2022</td>\n",
       "      <td>6:55</td>\n",
       "      <td>NaN</td>\n",
       "      <td>NaN</td>\n",
       "      <td>NaN</td>\n",
       "      <td>NaN</td>\n",
       "      <td>NaN</td>\n",
       "      <td>4541903</td>\n",
       "      <td>0</td>\n",
       "      <td>0</td>\n",
       "      <td>0</td>\n",
       "      <td>Passenger vehicle</td>\n",
       "      <td>Following Too Closely</td>\n",
       "      <td>NaN</td>\n",
       "      <td>06:55:00</td>\n",
       "      <td>day</td>\n",
       "    </tr>\n",
       "    <tr>\n",
       "      <th>3</th>\n",
       "      <td>09/11/2021</td>\n",
       "      <td>9:35</td>\n",
       "      <td>BROOKLYN</td>\n",
       "      <td>11208.0</td>\n",
       "      <td>40.667202</td>\n",
       "      <td>-73.866500</td>\n",
       "      <td>(40.667202, -73.8665)</td>\n",
       "      <td>4456314</td>\n",
       "      <td>0</td>\n",
       "      <td>0</td>\n",
       "      <td>0</td>\n",
       "      <td>Passenger vehicle</td>\n",
       "      <td>NaN</td>\n",
       "      <td>NaN</td>\n",
       "      <td>09:35:00</td>\n",
       "      <td>day</td>\n",
       "    </tr>\n",
       "    <tr>\n",
       "      <th>4</th>\n",
       "      <td>12/14/2021</td>\n",
       "      <td>8:13</td>\n",
       "      <td>BROOKLYN</td>\n",
       "      <td>11233.0</td>\n",
       "      <td>40.683304</td>\n",
       "      <td>-73.917274</td>\n",
       "      <td>(40.683304, -73.917274)</td>\n",
       "      <td>4486609</td>\n",
       "      <td>0</td>\n",
       "      <td>0</td>\n",
       "      <td>0</td>\n",
       "      <td>NaN</td>\n",
       "      <td>NaN</td>\n",
       "      <td>avenue</td>\n",
       "      <td>08:13:00</td>\n",
       "      <td>day</td>\n",
       "    </tr>\n",
       "  </tbody>\n",
       "</table>\n",
       "</div>"
      ],
      "text/plain": [
       "   CRASH DATE CRASH TIME   BOROUGH ZIP CODE   LATITUDE  LONGITUDE  \\\n",
       "0  09/11/2021       2:39       NaN      NaN        NaN        NaN   \n",
       "1  03/26/2022      11:45       NaN      NaN        NaN        NaN   \n",
       "2  06/29/2022       6:55       NaN      NaN        NaN        NaN   \n",
       "3  09/11/2021       9:35  BROOKLYN  11208.0  40.667202 -73.866500   \n",
       "4  12/14/2021       8:13  BROOKLYN  11233.0  40.683304 -73.917274   \n",
       "\n",
       "                  LOCATION  COLLISION_ID  injured  deaths_number  deaths  \\\n",
       "0                      NaN       4455765        4              0       0   \n",
       "1                      NaN       4513547        2              0       0   \n",
       "2                      NaN       4541903        0              0       0   \n",
       "3    (40.667202, -73.8665)       4456314        0              0       0   \n",
       "4  (40.683304, -73.917274)       4486609        0              0       0   \n",
       "\n",
       "             vehicle main_contributing_factor road_type crash_time time_of_day  \n",
       "0  Passenger vehicle                    Other       way   02:39:00       night  \n",
       "1  Passenger vehicle        Pavement Slippery       NaN   11:45:00         day  \n",
       "2  Passenger vehicle    Following Too Closely       NaN   06:55:00         day  \n",
       "3  Passenger vehicle                      NaN       NaN   09:35:00         day  \n",
       "4                NaN                      NaN    avenue   08:13:00         day  "
      ]
     },
     "execution_count": 56,
     "metadata": {},
     "output_type": "execute_result"
    }
   ],
   "source": [
    "df.head()"
   ]
  },
  {
   "cell_type": "code",
   "execution_count": 57,
   "metadata": {},
   "outputs": [
    {
     "data": {
      "text/plain": [
       "day      1283806\n",
       "night     695817\n",
       "Name: time_of_day, dtype: int64"
      ]
     },
     "execution_count": 57,
     "metadata": {},
     "output_type": "execute_result"
    }
   ],
   "source": [
    "df.time_of_day.value_counts()"
   ]
  },
  {
   "attachments": {},
   "cell_type": "markdown",
   "metadata": {},
   "source": [
    "### Creación de columna 'weekday': día de la semana del accidente"
   ]
  },
  {
   "cell_type": "code",
   "execution_count": 58,
   "metadata": {},
   "outputs": [],
   "source": [
    "# Se convierte la columna 'crash date' a objetos datetime\n",
    "df['CRASH DATE'] = pd.to_datetime(df['CRASH DATE'], format='%m/%d/%Y')\n",
    "\n",
    "# Se agrega una columna que contenga el nombre del día de la semana\n",
    "df['weekday'] = df['CRASH DATE'].apply(lambda x: x.strftime('%A'))"
   ]
  },
  {
   "attachments": {},
   "cell_type": "markdown",
   "metadata": {},
   "source": [
    "### Creación de columna 'season': estación del año en que ocurrió el accidente"
   ]
  },
  {
   "cell_type": "code",
   "execution_count": 59,
   "metadata": {},
   "outputs": [],
   "source": [
    "# Se agrega una columna que contenga la estación del año\n",
    "def get_season(month):\n",
    "    if month >= 3 and month <= 5:\n",
    "        return 'Spring'\n",
    "    elif month >= 6 and month <= 8:\n",
    "        return 'Summer'\n",
    "    elif month >= 9 and month <= 11:\n",
    "        return 'Fall'\n",
    "    else:\n",
    "        return 'Winter'"
   ]
  },
  {
   "cell_type": "code",
   "execution_count": 60,
   "metadata": {},
   "outputs": [],
   "source": [
    "df['season'] = df['CRASH DATE'].dt.month.apply(get_season)"
   ]
  },
  {
   "cell_type": "code",
   "execution_count": 61,
   "metadata": {},
   "outputs": [],
   "source": [
    "df.rename(columns={'CRASH DATE':'crash_date'}, inplace=True)"
   ]
  },
  {
   "attachments": {},
   "cell_type": "markdown",
   "metadata": {},
   "source": [
    "### Limpieza: últimos toques y Dataset final"
   ]
  },
  {
   "cell_type": "code",
   "execution_count": 62,
   "metadata": {},
   "outputs": [
    {
     "data": {
      "text/plain": [
       "Index(['crash_date', 'CRASH TIME', 'BOROUGH', 'ZIP CODE', 'LATITUDE',\n",
       "       'LONGITUDE', 'LOCATION', 'COLLISION_ID', 'injured', 'deaths_number',\n",
       "       'deaths', 'vehicle', 'main_contributing_factor', 'road_type',\n",
       "       'crash_time', 'time_of_day', 'weekday', 'season'],\n",
       "      dtype='object')"
      ]
     },
     "execution_count": 62,
     "metadata": {},
     "output_type": "execute_result"
    }
   ],
   "source": [
    "df.columns"
   ]
  },
  {
   "cell_type": "code",
   "execution_count": 63,
   "metadata": {},
   "outputs": [],
   "source": [
    "df.columns = df.columns.str.lower()"
   ]
  },
  {
   "cell_type": "code",
   "execution_count": 64,
   "metadata": {},
   "outputs": [
    {
     "data": {
      "text/plain": [
       "(1979623, 18)"
      ]
     },
     "execution_count": 64,
     "metadata": {},
     "output_type": "execute_result"
    }
   ],
   "source": [
    "df.shape"
   ]
  },
  {
   "cell_type": "code",
   "execution_count": 65,
   "metadata": {},
   "outputs": [],
   "source": [
    "df.drop_duplicates(inplace=True)"
   ]
  },
  {
   "cell_type": "code",
   "execution_count": 66,
   "metadata": {},
   "outputs": [
    {
     "data": {
      "text/html": [
       "<div>\n",
       "<style scoped>\n",
       "    .dataframe tbody tr th:only-of-type {\n",
       "        vertical-align: middle;\n",
       "    }\n",
       "\n",
       "    .dataframe tbody tr th {\n",
       "        vertical-align: top;\n",
       "    }\n",
       "\n",
       "    .dataframe thead th {\n",
       "        text-align: right;\n",
       "    }\n",
       "</style>\n",
       "<table border=\"1\" class=\"dataframe\">\n",
       "  <thead>\n",
       "    <tr style=\"text-align: right;\">\n",
       "      <th></th>\n",
       "      <th>crash_date</th>\n",
       "      <th>crash time</th>\n",
       "      <th>borough</th>\n",
       "      <th>zip code</th>\n",
       "      <th>latitude</th>\n",
       "      <th>longitude</th>\n",
       "      <th>location</th>\n",
       "      <th>collision_id</th>\n",
       "      <th>injured</th>\n",
       "      <th>deaths_number</th>\n",
       "      <th>deaths</th>\n",
       "      <th>vehicle</th>\n",
       "      <th>main_contributing_factor</th>\n",
       "      <th>road_type</th>\n",
       "      <th>crash_time</th>\n",
       "      <th>time_of_day</th>\n",
       "      <th>weekday</th>\n",
       "      <th>season</th>\n",
       "    </tr>\n",
       "  </thead>\n",
       "  <tbody>\n",
       "    <tr>\n",
       "      <th>0</th>\n",
       "      <td>2021-09-11</td>\n",
       "      <td>2:39</td>\n",
       "      <td>NaN</td>\n",
       "      <td>NaN</td>\n",
       "      <td>NaN</td>\n",
       "      <td>NaN</td>\n",
       "      <td>NaN</td>\n",
       "      <td>4455765</td>\n",
       "      <td>4</td>\n",
       "      <td>0</td>\n",
       "      <td>0</td>\n",
       "      <td>Passenger vehicle</td>\n",
       "      <td>Other</td>\n",
       "      <td>way</td>\n",
       "      <td>02:39:00</td>\n",
       "      <td>night</td>\n",
       "      <td>Saturday</td>\n",
       "      <td>Fall</td>\n",
       "    </tr>\n",
       "    <tr>\n",
       "      <th>1</th>\n",
       "      <td>2022-03-26</td>\n",
       "      <td>11:45</td>\n",
       "      <td>NaN</td>\n",
       "      <td>NaN</td>\n",
       "      <td>NaN</td>\n",
       "      <td>NaN</td>\n",
       "      <td>NaN</td>\n",
       "      <td>4513547</td>\n",
       "      <td>2</td>\n",
       "      <td>0</td>\n",
       "      <td>0</td>\n",
       "      <td>Passenger vehicle</td>\n",
       "      <td>Pavement Slippery</td>\n",
       "      <td>NaN</td>\n",
       "      <td>11:45:00</td>\n",
       "      <td>day</td>\n",
       "      <td>Saturday</td>\n",
       "      <td>Spring</td>\n",
       "    </tr>\n",
       "    <tr>\n",
       "      <th>2</th>\n",
       "      <td>2022-06-29</td>\n",
       "      <td>6:55</td>\n",
       "      <td>NaN</td>\n",
       "      <td>NaN</td>\n",
       "      <td>NaN</td>\n",
       "      <td>NaN</td>\n",
       "      <td>NaN</td>\n",
       "      <td>4541903</td>\n",
       "      <td>0</td>\n",
       "      <td>0</td>\n",
       "      <td>0</td>\n",
       "      <td>Passenger vehicle</td>\n",
       "      <td>Following Too Closely</td>\n",
       "      <td>NaN</td>\n",
       "      <td>06:55:00</td>\n",
       "      <td>day</td>\n",
       "      <td>Wednesday</td>\n",
       "      <td>Summer</td>\n",
       "    </tr>\n",
       "    <tr>\n",
       "      <th>3</th>\n",
       "      <td>2021-09-11</td>\n",
       "      <td>9:35</td>\n",
       "      <td>BROOKLYN</td>\n",
       "      <td>11208.0</td>\n",
       "      <td>40.667202</td>\n",
       "      <td>-73.8665</td>\n",
       "      <td>(40.667202, -73.8665)</td>\n",
       "      <td>4456314</td>\n",
       "      <td>0</td>\n",
       "      <td>0</td>\n",
       "      <td>0</td>\n",
       "      <td>Passenger vehicle</td>\n",
       "      <td>NaN</td>\n",
       "      <td>NaN</td>\n",
       "      <td>09:35:00</td>\n",
       "      <td>day</td>\n",
       "      <td>Saturday</td>\n",
       "      <td>Fall</td>\n",
       "    </tr>\n",
       "  </tbody>\n",
       "</table>\n",
       "</div>"
      ],
      "text/plain": [
       "  crash_date crash time   borough zip code   latitude  longitude  \\\n",
       "0 2021-09-11       2:39       NaN      NaN        NaN        NaN   \n",
       "1 2022-03-26      11:45       NaN      NaN        NaN        NaN   \n",
       "2 2022-06-29       6:55       NaN      NaN        NaN        NaN   \n",
       "3 2021-09-11       9:35  BROOKLYN  11208.0  40.667202   -73.8665   \n",
       "\n",
       "                location  collision_id  injured  deaths_number  deaths  \\\n",
       "0                    NaN       4455765        4              0       0   \n",
       "1                    NaN       4513547        2              0       0   \n",
       "2                    NaN       4541903        0              0       0   \n",
       "3  (40.667202, -73.8665)       4456314        0              0       0   \n",
       "\n",
       "             vehicle main_contributing_factor road_type crash_time  \\\n",
       "0  Passenger vehicle                    Other       way   02:39:00   \n",
       "1  Passenger vehicle        Pavement Slippery       NaN   11:45:00   \n",
       "2  Passenger vehicle    Following Too Closely       NaN   06:55:00   \n",
       "3  Passenger vehicle                      NaN       NaN   09:35:00   \n",
       "\n",
       "  time_of_day    weekday  season  \n",
       "0       night   Saturday    Fall  \n",
       "1         day   Saturday  Spring  \n",
       "2         day  Wednesday  Summer  \n",
       "3         day   Saturday    Fall  "
      ]
     },
     "execution_count": 66,
     "metadata": {},
     "output_type": "execute_result"
    }
   ],
   "source": [
    "df.head(4)"
   ]
  },
  {
   "cell_type": "code",
   "execution_count": 67,
   "metadata": {},
   "outputs": [],
   "source": [
    "df.drop(columns=['crash time'], inplace=True)\n",
    "df.dropna(inplace=True)"
   ]
  },
  {
   "cell_type": "code",
   "execution_count": 68,
   "metadata": {},
   "outputs": [],
   "source": [
    "df.reset_index(inplace=True)"
   ]
  },
  {
   "cell_type": "code",
   "execution_count": 69,
   "metadata": {},
   "outputs": [],
   "source": [
    "df.drop(columns='index', inplace=True)"
   ]
  },
  {
   "cell_type": "code",
   "execution_count": 70,
   "metadata": {},
   "outputs": [
    {
     "data": {
      "text/plain": [
       "(438927, 17)"
      ]
     },
     "execution_count": 70,
     "metadata": {},
     "output_type": "execute_result"
    }
   ],
   "source": [
    "df.shape"
   ]
  },
  {
   "cell_type": "code",
   "execution_count": 71,
   "metadata": {},
   "outputs": [
    {
     "data": {
      "text/plain": [
       "crash_date                  0.0\n",
       "borough                     0.0\n",
       "zip code                    0.0\n",
       "latitude                    0.0\n",
       "longitude                   0.0\n",
       "location                    0.0\n",
       "collision_id                0.0\n",
       "injured                     0.0\n",
       "deaths_number               0.0\n",
       "deaths                      0.0\n",
       "vehicle                     0.0\n",
       "main_contributing_factor    0.0\n",
       "road_type                   0.0\n",
       "crash_time                  0.0\n",
       "time_of_day                 0.0\n",
       "weekday                     0.0\n",
       "season                      0.0\n",
       "dtype: float64"
      ]
     },
     "execution_count": 71,
     "metadata": {},
     "output_type": "execute_result"
    }
   ],
   "source": [
    "df.isnull().sum()/df.shape[0]"
   ]
  },
  {
   "cell_type": "code",
   "execution_count": 72,
   "metadata": {},
   "outputs": [],
   "source": [
    "col = df.pop('deaths')\n",
    "df.insert(df.shape[1], 'deaths', col)"
   ]
  },
  {
   "cell_type": "code",
   "execution_count": 73,
   "metadata": {},
   "outputs": [
    {
     "data": {
      "text/html": [
       "<div>\n",
       "<style scoped>\n",
       "    .dataframe tbody tr th:only-of-type {\n",
       "        vertical-align: middle;\n",
       "    }\n",
       "\n",
       "    .dataframe tbody tr th {\n",
       "        vertical-align: top;\n",
       "    }\n",
       "\n",
       "    .dataframe thead th {\n",
       "        text-align: right;\n",
       "    }\n",
       "</style>\n",
       "<table border=\"1\" class=\"dataframe\">\n",
       "  <thead>\n",
       "    <tr style=\"text-align: right;\">\n",
       "      <th></th>\n",
       "      <th>crash_date</th>\n",
       "      <th>borough</th>\n",
       "      <th>zip code</th>\n",
       "      <th>latitude</th>\n",
       "      <th>longitude</th>\n",
       "      <th>location</th>\n",
       "      <th>collision_id</th>\n",
       "      <th>injured</th>\n",
       "      <th>deaths_number</th>\n",
       "      <th>vehicle</th>\n",
       "      <th>main_contributing_factor</th>\n",
       "      <th>road_type</th>\n",
       "      <th>crash_time</th>\n",
       "      <th>time_of_day</th>\n",
       "      <th>weekday</th>\n",
       "      <th>season</th>\n",
       "      <th>deaths</th>\n",
       "    </tr>\n",
       "  </thead>\n",
       "  <tbody>\n",
       "    <tr>\n",
       "      <th>0</th>\n",
       "      <td>2021-12-14</td>\n",
       "      <td>MANHATTAN</td>\n",
       "      <td>10017.0</td>\n",
       "      <td>40.751440</td>\n",
       "      <td>-73.973970</td>\n",
       "      <td>(40.75144, -73.97397)</td>\n",
       "      <td>4486519</td>\n",
       "      <td>0</td>\n",
       "      <td>0</td>\n",
       "      <td>Passenger vehicle</td>\n",
       "      <td>Passing Too Closely</td>\n",
       "      <td>avenue</td>\n",
       "      <td>14:58:00</td>\n",
       "      <td>day</td>\n",
       "      <td>Tuesday</td>\n",
       "      <td>Winter</td>\n",
       "      <td>0</td>\n",
       "    </tr>\n",
       "    <tr>\n",
       "      <th>1</th>\n",
       "      <td>2021-12-14</td>\n",
       "      <td>QUEENS</td>\n",
       "      <td>11413.0</td>\n",
       "      <td>40.675884</td>\n",
       "      <td>-73.755770</td>\n",
       "      <td>(40.675884, -73.75577)</td>\n",
       "      <td>4487127</td>\n",
       "      <td>0</td>\n",
       "      <td>0</td>\n",
       "      <td>Passenger vehicle</td>\n",
       "      <td>Turning Improperly</td>\n",
       "      <td>boulevard</td>\n",
       "      <td>16:50:00</td>\n",
       "      <td>day</td>\n",
       "      <td>Tuesday</td>\n",
       "      <td>Winter</td>\n",
       "      <td>0</td>\n",
       "    </tr>\n",
       "    <tr>\n",
       "      <th>2</th>\n",
       "      <td>2021-12-14</td>\n",
       "      <td>QUEENS</td>\n",
       "      <td>11434.0</td>\n",
       "      <td>40.666840</td>\n",
       "      <td>-73.789410</td>\n",
       "      <td>(40.66684, -73.78941)</td>\n",
       "      <td>4486635</td>\n",
       "      <td>4</td>\n",
       "      <td>0</td>\n",
       "      <td>Passenger vehicle</td>\n",
       "      <td>Other</td>\n",
       "      <td>avenue</td>\n",
       "      <td>23:10:00</td>\n",
       "      <td>night</td>\n",
       "      <td>Tuesday</td>\n",
       "      <td>Winter</td>\n",
       "      <td>0</td>\n",
       "    </tr>\n",
       "    <tr>\n",
       "      <th>3</th>\n",
       "      <td>2021-12-14</td>\n",
       "      <td>BROOKLYN</td>\n",
       "      <td>11211.0</td>\n",
       "      <td>40.710957</td>\n",
       "      <td>-73.951126</td>\n",
       "      <td>(40.710957, -73.951126)</td>\n",
       "      <td>4486556</td>\n",
       "      <td>2</td>\n",
       "      <td>0</td>\n",
       "      <td>Bus</td>\n",
       "      <td>Passing or Lane Usage Improper</td>\n",
       "      <td>street</td>\n",
       "      <td>17:15:00</td>\n",
       "      <td>day</td>\n",
       "      <td>Tuesday</td>\n",
       "      <td>Winter</td>\n",
       "      <td>0</td>\n",
       "    </tr>\n",
       "    <tr>\n",
       "      <th>4</th>\n",
       "      <td>2022-04-24</td>\n",
       "      <td>BRONX</td>\n",
       "      <td>10466.0</td>\n",
       "      <td>40.894810</td>\n",
       "      <td>-73.861830</td>\n",
       "      <td>(40.89481, -73.86183)</td>\n",
       "      <td>4521633</td>\n",
       "      <td>0</td>\n",
       "      <td>0</td>\n",
       "      <td>Passenger vehicle</td>\n",
       "      <td>Driver Inattention/Distraction</td>\n",
       "      <td>way</td>\n",
       "      <td>17:45:00</td>\n",
       "      <td>day</td>\n",
       "      <td>Sunday</td>\n",
       "      <td>Spring</td>\n",
       "      <td>0</td>\n",
       "    </tr>\n",
       "  </tbody>\n",
       "</table>\n",
       "</div>"
      ],
      "text/plain": [
       "  crash_date    borough zip code   latitude  longitude  \\\n",
       "0 2021-12-14  MANHATTAN  10017.0  40.751440 -73.973970   \n",
       "1 2021-12-14     QUEENS  11413.0  40.675884 -73.755770   \n",
       "2 2021-12-14     QUEENS  11434.0  40.666840 -73.789410   \n",
       "3 2021-12-14   BROOKLYN  11211.0  40.710957 -73.951126   \n",
       "4 2022-04-24      BRONX  10466.0  40.894810 -73.861830   \n",
       "\n",
       "                  location  collision_id  injured  deaths_number  \\\n",
       "0    (40.75144, -73.97397)       4486519        0              0   \n",
       "1   (40.675884, -73.75577)       4487127        0              0   \n",
       "2    (40.66684, -73.78941)       4486635        4              0   \n",
       "3  (40.710957, -73.951126)       4486556        2              0   \n",
       "4    (40.89481, -73.86183)       4521633        0              0   \n",
       "\n",
       "             vehicle        main_contributing_factor  road_type crash_time  \\\n",
       "0  Passenger vehicle             Passing Too Closely     avenue   14:58:00   \n",
       "1  Passenger vehicle              Turning Improperly  boulevard   16:50:00   \n",
       "2  Passenger vehicle                           Other     avenue   23:10:00   \n",
       "3                Bus  Passing or Lane Usage Improper     street   17:15:00   \n",
       "4  Passenger vehicle  Driver Inattention/Distraction        way   17:45:00   \n",
       "\n",
       "  time_of_day  weekday  season  deaths  \n",
       "0         day  Tuesday  Winter       0  \n",
       "1         day  Tuesday  Winter       0  \n",
       "2       night  Tuesday  Winter       0  \n",
       "3         day  Tuesday  Winter       0  \n",
       "4         day   Sunday  Spring       0  "
      ]
     },
     "execution_count": 73,
     "metadata": {},
     "output_type": "execute_result"
    }
   ],
   "source": [
    "df.head(5)"
   ]
  },
  {
   "attachments": {},
   "cell_type": "markdown",
   "metadata": {},
   "source": [
    "### Numero de accidentes por día de la semana"
   ]
  },
  {
   "cell_type": "code",
   "execution_count": 94,
   "metadata": {},
   "outputs": [
    {
     "data": {
      "image/png": "[encoded data removed]",
      "text/plain": [
       "<Figure size 576x432 with 1 Axes>"
      ]
     },
     "metadata": {
      "needs_background": "light"
     },
     "output_type": "display_data"
    }
   ],
   "source": [
    "# Se cuenta el número de accidentes por día de la semana\n",
    "accidents_by_day = df['weekday'].value_counts()\n",
    "\n",
    "# Se ordenan los días de la semana de lunes a domingo\n",
    "accidents_by_day = accidents_by_day.reindex(['Monday', 'Tuesday', 'Wednesday', 'Thursday', 'Friday', 'Saturday', 'Sunday'])\n",
    "\n",
    "# Se crea un gráfico de barras\n",
    "\n",
    "plt.figure(figsize=(8, 6))\n",
    "plt.barh(accidents_by_day.index, accidents_by_day.values, color=plt.cm.viridis(np.linspace(0, 1, 10)))\n",
    "plt.title('Número de accidentes por día de la semana (Julio 2012 - Marzo 2023)')\n",
    "plt.xlabel('Día de la semana')\n",
    "plt.ylabel('Número de accidentes')\n",
    "plt.show()"
   ]
  },
  {
   "cell_type": "code",
   "execution_count": 96,
   "metadata": {},
   "outputs": [
    {
     "data": {
      "image/png": "[encoded data removed]",
      "text/plain": [
       "<Figure size 576x432 with 1 Axes>"
      ]
     },
     "metadata": {
      "needs_background": "light"
     },
     "output_type": "display_data"
    }
   ],
   "source": [
    "# Se agrupa los datos por día de la semana y calcula la suma de muertes para cada día\n",
    "deaths_by_day = df.groupby('weekday')['deaths'].sum()\n",
    "\n",
    "# Se crea un gráfico de barras\n",
    "plt.figure(figsize=(8, 6))\n",
    "plt.barh(deaths_by_day.index, deaths_by_day.values,color=plt.cm.viridis(np.linspace(0, 1, 10)))\n",
    "plt.title('Número de muertes por día de la semana (Julio 2012 - Marzo 2023)')\n",
    "plt.xlabel('Día de la semana')\n",
    "plt.ylabel('Número de muertes')\n",
    "plt.show()"
   ]
  },
  {
   "attachments": {},
   "cell_type": "markdown",
   "metadata": {},
   "source": [
    "Si bien en el analisis de accidentes por los dias de la semana encontramos que el dia con mayor accidentes es el viernes, sin embargo el mayor numero de muertes se dan el Sabado."
   ]
  },
  {
   "cell_type": "code",
   "execution_count": 98,
   "metadata": {},
   "outputs": [
    {
     "data": {
      "image/png": "[encoded data removed]",
      "text/plain": [
       "<Figure size 576x432 with 1 Axes>"
      ]
     },
     "metadata": {
      "needs_background": "light"
     },
     "output_type": "display_data"
    }
   ],
   "source": [
    "# Se grupa los datos por momento del día (de día o de noche) y calcula la suma de muertes para cada momento\n",
    "deaths_by_time = df.groupby('time_of_day')['deaths'].sum()\n",
    "\n",
    "plt.figure(figsize=(8, 6))\n",
    "plt.barh(deaths_by_time.index, deaths_by_time.values, color=plt.cm.viridis(np.linspace(0, 1, 10)))\n",
    "plt.title('Número de muertes por momento del día (Julio 2012 - Marzo 2023)')\n",
    "plt.xlabel('Momento del día')\n",
    "plt.ylabel('Número de muertes')\n",
    "plt.show()"
   ]
  },
  {
   "attachments": {},
   "cell_type": "markdown",
   "metadata": {},
   "source": [
    "El mayor numero de muertes sucede en el dia"
   ]
  },
  {
   "cell_type": "code",
   "execution_count": 99,
   "metadata": {},
   "outputs": [
    {
     "data": {
      "image/png": "[encoded data removed]",
      "text/plain": [
       "<Figure size 576x432 with 1 Axes>"
      ]
     },
     "metadata": {
      "needs_background": "light"
     },
     "output_type": "display_data"
    }
   ],
   "source": [
    "# Se grupa los datos por la temporada  y calcula la suma de muertes para cada momento\n",
    "deaths_by_time = df.groupby('season')['deaths'].sum()\n",
    "\n",
    "plt.figure(figsize=(8, 6))\n",
    "plt.barh(deaths_by_time.index, deaths_by_time.values, color=plt.cm.viridis(np.linspace(0, 1, 10)))\n",
    "plt.title('Número de muertes por temporada del año (Julio 2012 - Marzo 2023)')\n",
    "plt.xlabel('Temporada del año')\n",
    "plt.ylabel('Número de muertes')\n",
    "plt.show()"
   ]
  },
  {
   "attachments": {},
   "cell_type": "markdown",
   "metadata": {},
   "source": [
    "El mayor numero de muertes sucede en el verano"
   ]
  },
  {
   "cell_type": "code",
   "execution_count": null,
   "metadata": {},
   "outputs": [],
   "source": [
    "# Crear un nuevo DataFrame con la hora del accidente y el número de muertes\n",
    "hour_deaths = df[['crash_time', 'deaths']]\n",
    "hour_deaths['crash_time'] = hour_deaths['crash_time'].str.slice(0,2) # Extraer la hora del accidente\n",
    "hour_deaths = hour_deaths.groupby('crash_time').sum()\n",
    "\n",
    "# Graficar el histograma\n",
    "plt.hist(hour_deaths.index, weights=hour_deaths['deaths'], bins=24)\n",
    "plt.title('Distribución de muertes por hora del día')\n",
    "plt.xlabel('Hora del día')\n",
    "plt.ylabel('Número de muertes')\n",
    "plt.show()"
   ]
  },
  {
   "attachments": {},
   "cell_type": "markdown",
   "metadata": {},
   "source": [
    "## Regresión logistica "
   ]
  },
  {
   "cell_type": "code",
   "execution_count": null,
   "metadata": {},
   "outputs": [],
   "source": [
    "from sklearn.linear_model import LogisticRegression\n",
    "from imblearn.under_sampling import RandomUnderSampler\n",
    "from sklearn.model_selection import train_test_split\n",
    "from sklearn.feature_selection import SelectKBest, mutual_info_classif\n",
    "from sklearn.metrics import accuracy_score, precision_score, recall_score, f1_score, roc_auc_score\n",
    "from sklearn.ensemble import BaggingClassifier\n",
    "from sklearn.model_selection import RandomizedSearchCV\n",
    "from sklearn.model_selection import GridSearchCV\n",
    "from scipy.stats import loguniform\n",
    "from sklearn.model_selection import StratifiedKFold\n"
   ]
  },
  {
   "cell_type": "code",
   "execution_count": null,
   "metadata": {},
   "outputs": [
    {
     "data": {
      "text/plain": [
       "0    438292\n",
       "1       634\n",
       "Name: deaths, dtype: int64"
      ]
     },
     "execution_count": 208,
     "metadata": {},
     "output_type": "execute_result"
    }
   ],
   "source": [
    "df.deaths.value_counts()"
   ]
  },
  {
   "cell_type": "code",
   "execution_count": null,
   "metadata": {},
   "outputs": [],
   "source": [
    "columns_to_keep = ['borough', 'deaths', 'vehicle', 'main_contributing_factor', 'road_type', 'time_of_day','weekday','season']\n"
   ]
  },
  {
   "cell_type": "code",
   "execution_count": null,
   "metadata": {},
   "outputs": [],
   "source": [
    "df_model = df.loc[:, columns_to_keep]\n"
   ]
  },
  {
   "attachments": {},
   "cell_type": "markdown",
   "metadata": {},
   "source": [
    "### Train test stratificado por la variable target (deaths)"
   ]
  },
  {
   "cell_type": "code",
   "execution_count": null,
   "metadata": {},
   "outputs": [
    {
     "name": "stdout",
     "output_type": "stream",
     "text": [
      "Tamaño del training set:\n",
      "(329194, 7)\n",
      "\n",
      "Balance de clases:\n",
      "0    328719\n",
      "1       475\n",
      "Name: deaths, dtype: int64\n",
      "\n",
      "Balance de clases norm:\n",
      "0    0.998557\n",
      "1    0.001443\n",
      "Name: deaths, dtype: float64\n",
      "\n",
      "Ratio entre las clases:\n",
      "0.0014450031790069937\n"
     ]
    }
   ],
   "source": [
    "# Train test split\n",
    "X_train,X_test,y_train,y_test=train_test_split(df_model.drop(['deaths'],axis=1),\\\n",
    "                                               df_model['deaths'],stratify=df_model['deaths'],random_state=0)\n",
    "\n",
    "print('Tamaño del training set:')\n",
    "print(X_train.shape)\n",
    "\n",
    "print('\\nBalance de clases:')\n",
    "print(y_train.value_counts(normalize=False))\n",
    "\n",
    "\n",
    "print('\\nBalance de clases norm:')\n",
    "print(y_train.value_counts(normalize=True))\n",
    "\n",
    "print('\\nRatio entre las clases:')\n",
    "print((y_train==1).sum()/(y_train==0).sum())"
   ]
  },
  {
   "attachments": {},
   "cell_type": "markdown",
   "metadata": {},
   "source": [
    "### Undersampling"
   ]
  },
  {
   "cell_type": "code",
   "execution_count": null,
   "metadata": {},
   "outputs": [
    {
     "name": "stdout",
     "output_type": "stream",
     "text": [
      "Balance de clases:\n",
      "0    792\n",
      "1    634\n",
      "Name: deaths, dtype: int64\n",
      "\n",
      "Balance de clases norm:\n",
      "0    0.5554\n",
      "1    0.4446\n",
      "Name: deaths, dtype: float64\n",
      "\n",
      "Ratio entre las clases:\n",
      "0.8005050505050505\n",
      "\n",
      "Tamaño de Xtrain:\n",
      "(1426, 7)\n"
     ]
    }
   ],
   "source": [
    "undersampler = RandomUnderSampler(sampling_strategy=0.8)\n",
    "X_train_us,y_train_us = undersampler.fit_resample(df_model.drop('deaths', axis=1), df_model['deaths'])\n",
    "\n",
    "print('Balance de clases:')\n",
    "print(y_train_us.value_counts(normalize=False))\n",
    "\n",
    "print('\\nBalance de clases norm:')\n",
    "print(y_train_us.value_counts(normalize=True))\n",
    "\n",
    "print('\\nRatio entre las clases:')\n",
    "print((y_train_us==1).sum()/(y_train_us==0).sum())\n",
    "\n",
    "print('\\nTamaño de Xtrain:')\n",
    "print(X_train_us.shape)"
   ]
  },
  {
   "attachments": {},
   "cell_type": "markdown",
   "metadata": {},
   "source": [
    "### Modelo de RL"
   ]
  },
  {
   "cell_type": "code",
   "execution_count": null,
   "metadata": {},
   "outputs": [
    {
     "name": "stdout",
     "output_type": "stream",
     "text": [
      "Accuracy: 0.8182025297998761\n",
      "Precision: 0.0028637459807073955\n",
      "Recall: 0.3584905660377358\n",
      "F1 Score: 0.005682101380650949\n"
     ]
    }
   ],
   "source": [
    "\n",
    "logreg = LogisticRegression()\n",
    "logreg.fit(X_train_us, y_train_us)\n",
    "y_pred = logreg.predict(X_test)\n",
    "\n",
    "print(\"Accuracy:\", accuracy_score(y_test, y_pred))\n",
    "print(\"Precision:\", precision_score(y_test, y_pred))\n",
    "print(\"Recall:\", recall_score(y_test, y_pred))\n",
    "print(\"F1 Score:\", f1_score(y_test, y_pred))\n",
    "\n"
   ]
  },
  {
   "attachments": {},
   "cell_type": "markdown",
   "metadata": {},
   "source": [
    "### Modelo RL + Bagging"
   ]
  },
  {
   "cell_type": "code",
   "execution_count": null,
   "metadata": {},
   "outputs": [
    {
     "name": "stderr",
     "output_type": "stream",
     "text": [
      "/Users/valentinaospinahernandez/opt/anaconda3/lib/python3.9/site-packages/sklearn/ensemble/_base.py:166: FutureWarning: `base_estimator` was renamed to `estimator` in version 1.2 and will be removed in 1.4.\n",
      "  warnings.warn(\n"
     ]
    },
    {
     "name": "stdout",
     "output_type": "stream",
     "text": [
      "Accuracy: 0.8067473480844238\n",
      "Precision: 0.0027876210725253955\n",
      "Recall: 0.3710691823899371\n",
      "F1 Score: 0.005533670981054211\n",
      "AUC: 0.5892243687861635\n"
     ]
    }
   ],
   "source": [
    "\n",
    "logreg = LogisticRegression()\n",
    "bagging = BaggingClassifier(base_estimator=logreg, n_estimators=10)\n",
    "bagging.fit(X_train_us, y_train_us)\n",
    "y_pred = bagging.predict(X_test)\n",
    "from sklearn.metrics import accuracy_score, precision_score, recall_score, f1_score,roc_auc_score\n",
    "\n",
    "print(\"Accuracy:\", accuracy_score(y_test, y_pred))\n",
    "print(\"Precision:\", precision_score(y_test, y_pred))\n",
    "print(\"Recall:\", recall_score(y_test, y_pred))\n",
    "print(\"F1 Score:\", f1_score(y_test, y_pred))\n",
    "print(\"AUC:\",roc_auc_score(y_test, y_pred))\n"
   ]
  },
  {
   "cell_type": "code",
   "execution_count": null,
   "metadata": {},
   "outputs": [
    {
     "name": "stdout",
     "output_type": "stream",
     "text": [
      "Confusion matrix\n",
      "\n",
      " [[88467 21106]\n",
      " [  100    59]]\n"
     ]
    },
    {
     "data": {
      "image/png": "[encoded data removed]",
      "text/plain": [
       "<Figure size 432x288 with 2 Axes>"
      ]
     },
     "metadata": {
      "needs_background": "light"
     },
     "output_type": "display_data"
    }
   ],
   "source": [
    "conf_mat = confusion_matrix(y_test, y_pred)\n",
    "print('Confusion matrix\\n\\n', conf_mat)\n",
    "\n",
    "conf_mat_df = pd.DataFrame(data=conf_mat, \n",
    "                           index=['Actual Negative: 0', 'Actual Positive: 1'], \n",
    "                           columns=['Predict Negative: 0', 'Predict Positive: 1'])\n",
    "\n",
    "sns.heatmap(conf_mat_df, annot=True, fmt='d', cmap='plasma');"
   ]
  }
 ],
 "metadata": {
  "kernelspec": {
   "display_name": "base",
   "language": "python",
   "name": "python3"
  },
  "language_info": {
   "codemirror_mode": {
    "name": "ipython",
    "version": 3
   },
   "file_extension": ".py",
   "mimetype": "text/x-python",
   "name": "python",
   "nbconvert_exporter": "python",
   "pygments_lexer": "ipython3",
   "version": "3.9.12 (main, Apr  5 2022, 01:53:17) \n[Clang 12.0.0 ]"
  },
  "orig_nbformat": 4,
  "vscode": {
   "interpreter": {
    "hash": "fba835b842273daeaf3f2ce261816d5bb52d41f5b62bc6c6a4486248f59b976b"
   }
  }
 },
 "nbformat": 4,
 "nbformat_minor": 2
}
